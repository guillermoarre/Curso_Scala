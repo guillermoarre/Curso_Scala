{
 "cells": [
  {
   "cell_type": "markdown",
   "id": "22bc4d93",
   "metadata": {},
   "source": [
    "# Ejercicio Práctico RDDs"
   ]
  },
  {
   "cell_type": "code",
   "execution_count": 1,
   "id": "c1a214d6",
   "metadata": {},
   "outputs": [],
   "source": [
    "import findspark\n",
    "findspark.init()\n",
    "\n",
    "import pandas as pd\n",
    "import pyspark\n",
    "from pyspark.sql import SparkSession"
   ]
  },
  {
   "cell_type": "code",
   "execution_count": 2,
   "id": "bd8b0d7c",
   "metadata": {},
   "outputs": [],
   "source": [
    "spark = SparkSession.builder.getOrCreate()\n",
    "sc = spark.sparkContext"
   ]
  },
  {
   "cell_type": "code",
   "execution_count": 3,
   "id": "1479e36b",
   "metadata": {},
   "outputs": [],
   "source": [
    "## Genera un RDD (newRDD) con la siguiente lista [1, 2, 3, 4, 5]\n",
    "num = [1, 2, 3, 4, 5]\n",
    "newRDD = sc.parallelize(num)"
   ]
  },
  {
   "cell_type": "code",
   "execution_count": 4,
   "id": "9bc25ae9",
   "metadata": {},
   "outputs": [
    {
     "data": {
      "text/plain": [
       "[2, 4, 6, 8, 10]"
      ]
     },
     "execution_count": 4,
     "metadata": {},
     "output_type": "execute_result"
    }
   ],
   "source": [
    "## Multiplica por 2 todos los elementos del RDD anterior\n",
    "mul = newRDD.map(lambda x: x * 2)\n",
    "mul.collect()"
   ]
  },
  {
   "cell_type": "code",
   "execution_count": 5,
   "id": "a047081a",
   "metadata": {},
   "outputs": [
    {
     "data": {
      "text/plain": [
       "[2, 4, 6]"
      ]
     },
     "execution_count": 5,
     "metadata": {},
     "output_type": "execute_result"
    }
   ],
   "source": [
    "data= [1, 2, 3, 4, 5, 6]\n",
    "myRDD= sc.parallelize(data)\n",
    "\n",
    "## Filtra el RDD anterior por los elementos pares\n",
    "pares = myRDD.filter(lambda x: x % 2 == 0)\n",
    "pares.collect()"
   ]
  },
  {
   "cell_type": "code",
   "execution_count": 6,
   "id": "aeb368f0",
   "metadata": {},
   "outputs": [
    {
     "data": {
      "text/plain": [
       "[1, 2, 3, 4, 5, 6]"
      ]
     },
     "execution_count": 6,
     "metadata": {},
     "output_type": "execute_result"
    }
   ],
   "source": [
    "## Muestra los elementos unicos del RDD\n",
    "unicos = myRDD.distinct()\n",
    "unicos.collect()"
   ]
  },
  {
   "cell_type": "code",
   "execution_count": 8,
   "id": "787c7986",
   "metadata": {},
   "outputs": [
    {
     "name": "stdout",
     "output_type": "stream",
     "text": [
      "('a', 6)\n",
      "('b', 1)\n"
     ]
    }
   ],
   "source": [
    "from operator import add\n",
    "myRDD = sc.parallelize([('a', 1), ('a', 2), ('a', 3), ('b', 1)])\n",
    "\n",
    "## Obten la suma de los valores agrupados por el key\n",
    "\n",
    "sumaGroup = myRDD.reduceByKey(lambda x, y : x + y)\n",
    "var = sumaGroup.collect()\n",
    "print(*var, sep='\\n')"
   ]
  },
  {
   "cell_type": "code",
   "execution_count": 10,
   "id": "5133d6f2",
   "metadata": {},
   "outputs": [
    {
     "name": "stdout",
     "output_type": "stream",
     "text": [
      "('a', 1)\n",
      " -('a', 2)\n",
      " -('a', 3)\n",
      " -('b', 1)\n"
     ]
    }
   ],
   "source": [
    "## Ordena los RDDs en base al key\n",
    "ordKey = myRDD.sortByKey()\n",
    "var = ordKey.collect()\n",
    "print(*var, sep='\\n -')"
   ]
  },
  {
   "cell_type": "code",
   "execution_count": 17,
   "id": "bfe2d705",
   "metadata": {},
   "outputs": [
    {
     "name": "stdout",
     "output_type": "stream",
     "text": [
      "120\n"
     ]
    }
   ],
   "source": [
    "data= [1, 2, 3, 4, 5]\n",
    "myRDD= sc.parallelize(data)\n",
    "\n",
    "## Toma los elementos del RDD para multiplicarlos entre si y obtener un resultado\n",
    "mulRDD = myRDD.reduce(lambda x, y: x*y)\n",
    "print(mulRDD)"
   ]
  },
  {
   "cell_type": "code",
   "execution_count": 22,
   "id": "b6139be0",
   "metadata": {},
   "outputs": [
    {
     "name": "stdout",
     "output_type": "stream",
     "text": [
      "El valor Python aparece 3 veces\n",
      "El valor Scala aparece 1 veces\n",
      "El valor R aparece 2 veces\n",
      "El valor Java aparece 1 veces\n"
     ]
    }
   ],
   "source": [
    "data= ['Python', 'Scala', 'Python', 'R', 'Python', 'Java', 'R' ]\n",
    "myRDD= sc.parallelize(data)\n",
    "\n",
    "## Cuenta cuantas veces aparece cada valor\n",
    "nVecesValue = myRDD.countByValue()\n",
    "#(<class 'int'>, {'Python': 3, 'Scala': 1, 'R': 2, 'Java': 1})\n",
    "\n",
    "for valor, nVeces in nVecesValue.items():\n",
    "    print(\"El valor\", valor, \"aparece\", nVeces, \"veces\")"
   ]
  },
  {
   "cell_type": "code",
   "execution_count": 23,
   "id": "633f7716",
   "metadata": {},
   "outputs": [
    {
     "name": "stdout",
     "output_type": "stream",
     "text": [
      "El valor a aparece 2 veces\n",
      "El valor b aparece 1 veces\n",
      "El valor c aparece 1 veces\n"
     ]
    }
   ],
   "source": [
    "data= [('a', 1), ('b', 1), ('c', 1), ('a', 1)]\n",
    "myRDD = sc.parallelize(data)\n",
    "\n",
    "## Cuenta cuantas veces aparece cada una de las keys\n",
    "nVecesValue = myRDD.countByKey()\n",
    "\n",
    "for valor, nVeces in nVecesValue.items():\n",
    "    print(\"El valor\", valor, \"aparece\", nVeces, \"veces\")"
   ]
  },
  {
   "cell_type": "code",
   "execution_count": null,
   "id": "f0cea10a",
   "metadata": {},
   "outputs": [],
   "source": []
  }
 ],
 "metadata": {
  "kernelspec": {
   "display_name": "Python 3 (ipykernel)",
   "language": "python",
   "name": "python3"
  },
  "language_info": {
   "codemirror_mode": {
    "name": "ipython",
    "version": 3
   },
   "file_extension": ".py",
   "mimetype": "text/x-python",
   "name": "python",
   "nbconvert_exporter": "python",
   "pygments_lexer": "ipython3",
   "version": "3.10.9"
  }
 },
 "nbformat": 4,
 "nbformat_minor": 5
}
