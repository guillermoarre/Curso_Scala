{
 "cells": [
  {
   "cell_type": "markdown",
   "id": "1dc95e1d",
   "metadata": {},
   "source": [
    "## EJERCICIO 1 - Arredondo Vazquez Guillermo\n",
    "Genera un RDD con la siguiente lista [23,47,6,118,9,2,23,42,64,32,76,3,8,23,12,434,7534,24,9,23] \n",
    "\n",
    "- Filtra por los elementos únicos del RDD \n",
    "- Multiplica por 6 todos los elementos del RDD anterior \n",
    "- Filtra el elemento resultante por los elementos pares "
   ]
  },
  {
   "cell_type": "code",
   "execution_count": 1,
   "id": "65ae8011",
   "metadata": {},
   "outputs": [],
   "source": [
    "import findspark\n",
    "findspark.init()\n",
    "import pandas as pd\n",
    "import pyspark\n",
    "from pyspark.sql import SparkSession"
   ]
  },
  {
   "cell_type": "code",
   "execution_count": 2,
   "id": "90a60ff9",
   "metadata": {},
   "outputs": [],
   "source": [
    "spark = SparkSession.builder.getOrCreate()\n",
    "sc = spark.sparkContext"
   ]
  },
  {
   "cell_type": "code",
   "execution_count": 3,
   "id": "f843cc4c",
   "metadata": {},
   "outputs": [],
   "source": [
    "lista = [23,47,6,118,9,2,23,42,64,32,76,3,8,23,12,434,7534,24,9,23]\n",
    "newRDD = sc.parallelize(lista)\n",
    "#newRDD.count()"
   ]
  },
  {
   "cell_type": "code",
   "execution_count": 4,
   "id": "90e0f8c0",
   "metadata": {},
   "outputs": [
    {
     "data": {
      "text/plain": [
       "[64, 32, 8, 24, 9, 2, 42, 434, 3, 76, 12, 6, 118, 7534, 23, 47]"
      ]
     },
     "execution_count": 4,
     "metadata": {},
     "output_type": "execute_result"
    }
   ],
   "source": [
    "#Filtra por los elementos únicos del RDD\n",
    "uniqueElements = newRDD.distinct()\n",
    "uniqueElements.collect()\n",
    "#uniqueElements.count()"
   ]
  },
  {
   "cell_type": "code",
   "execution_count": 5,
   "id": "181a1926",
   "metadata": {},
   "outputs": [
    {
     "data": {
      "text/plain": [
       "[384, 192, 48, 144, 54, 12, 252, 2604, 18, 456, 72, 36, 708, 45204, 138, 282]"
      ]
     },
     "execution_count": 5,
     "metadata": {},
     "output_type": "execute_result"
    }
   ],
   "source": [
    "#Multiplica por 6 todos los elementos del RDD anterior\n",
    "sixTimes = uniqueElements.map(lambda x: x*6)\n",
    "sixTimes.collect()"
   ]
  },
  {
   "cell_type": "code",
   "execution_count": 6,
   "id": "e20c0ac2",
   "metadata": {},
   "outputs": [
    {
     "data": {
      "text/plain": [
       "[384, 192, 48, 144, 54, 12, 252, 2604, 18, 456, 72, 36, 708, 45204, 138, 282]"
      ]
     },
     "execution_count": 6,
     "metadata": {},
     "output_type": "execute_result"
    }
   ],
   "source": [
    "#Filtra el elemento resultante por los elementos pares\n",
    "evenArray = sixTimes.filter(lambda x: x%2 == 0)\n",
    "evenArray.collect()"
   ]
  },
  {
   "cell_type": "code",
   "execution_count": null,
   "id": "d64c33fd",
   "metadata": {},
   "outputs": [],
   "source": []
  }
 ],
 "metadata": {
  "kernelspec": {
   "display_name": "Python 3 (ipykernel)",
   "language": "python",
   "name": "python3"
  },
  "language_info": {
   "codemirror_mode": {
    "name": "ipython",
    "version": 3
   },
   "file_extension": ".py",
   "mimetype": "text/x-python",
   "name": "python",
   "nbconvert_exporter": "python",
   "pygments_lexer": "ipython3",
   "version": "3.10.9"
  },
  "varInspector": {
   "cols": {
    "lenName": 16,
    "lenType": 16,
    "lenVar": 40
   },
   "kernels_config": {
    "python": {
     "delete_cmd_postfix": "",
     "delete_cmd_prefix": "del ",
     "library": "var_list.py",
     "varRefreshCmd": "print(var_dic_list())"
    },
    "r": {
     "delete_cmd_postfix": ") ",
     "delete_cmd_prefix": "rm(",
     "library": "var_list.r",
     "varRefreshCmd": "cat(var_dic_list()) "
    }
   },
   "types_to_exclude": [
    "module",
    "function",
    "builtin_function_or_method",
    "instance",
    "_Feature"
   ],
   "window_display": false
  }
 },
 "nbformat": 4,
 "nbformat_minor": 5
}
