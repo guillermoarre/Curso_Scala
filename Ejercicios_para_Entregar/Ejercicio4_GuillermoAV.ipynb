{
 "cells": [
  {
   "cell_type": "markdown",
   "id": "2d25daaa",
   "metadata": {},
   "source": [
    "# EJERCICIO 4 - Arredondo Vazquez Guillermo\n",
    "Inicializa una sesión de spark en consola y coloca en una variable llamada playersSalary la\n",
    "información del archivo t_players_salary.csv y muestra el resultado en pantalla\n",
    "- Muestra el tipo de dato de cada columna\n",
    "- Ordena los valores de mayor a menor de acuerdo a la columna Total Pay y muestra el resultado en pantalla\n",
    "- Devuelve el conteo de todos los salarios por juego ganado mayores a 15,300,000 y muestra el resultado en pantalla\n",
    "- Devuelve el conteo de todos los salarios por endoso mayores a 800,000 y muestra el resultado en pantalla\n",
    "- Devuelve el Salario total máximo de todo el set de datos y muestra el resultado en pantalla\n",
    "- Devuelve el Salario total mínimo de todo el set de datos y muestra el resultado en pantalla\n",
    "- Devuelve la suma y promedio de los salarios de cada columna y muestra el resultado en pantalla\n"
   ]
  },
  {
   "cell_type": "code",
   "execution_count": 1,
   "id": "d960e6c1",
   "metadata": {},
   "outputs": [],
   "source": [
    "#Para utilizar pyspark en notebook es necesario utilizar findspark\n",
    "#con la funcion .init() lo inicializamos\n",
    "import findspark\n",
    "findspark.init()\n",
    "import pandas as pd\n",
    "import pyspark\n",
    "\n",
    "from pyspark.sql import SparkSession\n",
    "#Libreria para utilizar el count\n",
    "from pyspark.sql.functions import *"
   ]
  },
  {
   "cell_type": "code",
   "execution_count": 2,
   "id": "859bdf0a",
   "metadata": {},
   "outputs": [],
   "source": [
    "#El sparkSession crea internamente sparkconfig y el sparkContext\n",
    "spark = SparkSession.builder\\\n",
    "        .master(\"local[*]\")\\\n",
    "        .appName('PySpark_Df')\\\n",
    "        .getOrCreate()"
   ]
  },
  {
   "cell_type": "code",
   "execution_count": 4,
   "id": "268f5670",
   "metadata": {},
   "outputs": [
    {
     "name": "stdout",
     "output_type": "stream",
     "text": [
      "+----+-----------+---------------+------------+\n",
      "|Rank|  Total Pay|Salary/Winnings|Endorsements|\n",
      "+----+-----------+---------------+------------+\n",
      "|  55|$22,000,000|    $14,500,000|  $7,500,000|\n",
      "|  95|$17,700,000|     $8,700,000|  $9,000,000|\n",
      "|  60|$21,500,000|    $21,100,000|    $400,000|\n",
      "|  48|$22,900,000|    $22,600,000|    $300,000|\n",
      "|  93|$18,050,000|    $18,000,000|     $50,000|\n",
      "|  27|$26,700,000|    $21,700,000|  $5,000,000|\n",
      "|  75|$20,400,000|    $20,300,000|    $100,000|\n",
      "|  47|$23,000,000|    $16,500,000|  $6,500,000|\n",
      "|  91|$18,435,000|    $18,400,000|     $35,000|\n",
      "|  97|$17,500,000|    $16,800,000|    $700,000|\n",
      "|  74|$20,500,000|    $20,200,000|    $300,000|\n",
      "|  84|$18,750,000|    $18,700,000|     $50,000|\n",
      "|  24|$29,400,000|    $21,400,000|  $8,000,000|\n",
      "|  37|$24,200,000|    $23,000,000|  $1,200,000|\n",
      "|  37|$24,200,000|    $18,700,000|  $5,500,000|\n",
      "|  57|$21,800,000|    $19,300,000|  $2,500,000|\n",
      "|  30|$25,300,000|    $25,100,000|    $200,000|\n",
      "|  70|$20,700,000|    $20,500,000|    $200,000|\n",
      "|  40|$23,800,000|    $23,000,000|    $800,000|\n",
      "|  80|$19,800,000|    $14,800,000|  $5,000,000|\n",
      "+----+-----------+---------------+------------+\n",
      "only showing top 20 rows\n",
      "\n"
     ]
    }
   ],
   "source": [
    "dfPlayers = spark.read.csv(\"data/t_players_salary.csv\", sep=\"|\", header=True, inferSchema=True)\n",
    "dfPlayers.show()"
   ]
  },
  {
   "cell_type": "code",
   "execution_count": 5,
   "id": "535a4faf",
   "metadata": {},
   "outputs": [
    {
     "name": "stdout",
     "output_type": "stream",
     "text": [
      "La columna Rank tiene variables de tipo: int\n",
      "La columna Total Pay tiene variables de tipo: string\n",
      "La columna Salary/Winnings tiene variables de tipo: string\n",
      "La columna Endorsements tiene variables de tipo: string\n"
     ]
    }
   ],
   "source": [
    "#Muestra el tipo de dato de cada columna\n",
    "arreglo1 = dfPlayers.dtypes\n",
    "for nombre, tipo in arreglo1:\n",
    "    print(\"La columna\",nombre,\"tiene variables de tipo:\",tipo)"
   ]
  },
  {
   "cell_type": "code",
   "execution_count": 7,
   "id": "a0e2b3e7",
   "metadata": {},
   "outputs": [
    {
     "name": "stdout",
     "output_type": "stream",
     "text": [
      "+----+-----------+---------------+------------+\n",
      "|Rank|  Total Pay|Salary/Winnings|Endorsements|\n",
      "+----+-----------+---------------+------------+\n",
      "|   2|$80,000,000|    $52,000,000| $28,000,000|\n",
      "|   3|$72,300,000|    $19,300,000| $53,000,000|\n",
      "|   4|$64,700,000|    $41,700,000| $23,000,000|\n",
      "|   5|$61,500,000|    $30,500,000| $31,000,000|\n",
      "|   6|$61,200,000|     $6,200,000| $55,000,000|\n",
      "|   7|$56,200,000|     $4,200,000| $52,000,000|\n",
      "|   8|$53,200,000|     $5,200,000| $48,000,000|\n",
      "|   9|$44,500,000|    $14,500,000| $30,000,000|\n",
      "|  10|$43,800,000|    $42,000,000|  $1,800,000|\n",
      "|  11|$41,800,000|    $41,000,000|    $800,000|\n",
      "|  12|$40,400,000|    $36,400,000|  $4,000,000|\n",
      "|  13|$36,600,000|    $17,600,000| $19,000,000|\n",
      "|  14|$36,400,000|    $25,400,000| $11,000,000|\n",
      "|  15|$35,400,000|    $32,400,000|  $3,000,000|\n",
      "|  16|$33,600,000|    $17,600,000| $16,000,000|\n",
      "|  17|$33,100,000|    $12,100,000| $21,000,000|\n",
      "|  18|$33,000,000|    $31,500,000|  $1,500,000|\n",
      "|  19|$32,000,000|    $29,000,000|  $3,000,000|\n",
      "|  20|$31,900,000|    $17,900,000| $14,000,000|\n",
      "|  21|$31,000,000|    $29,000,000|  $2,000,000|\n",
      "+----+-----------+---------------+------------+\n",
      "only showing top 20 rows\n",
      "\n"
     ]
    }
   ],
   "source": [
    "#Ordena los valores de mayor a menor de acuerdo a la columna Total Pay y muestra el resultado en pantalla\n",
    "dfPlayers.orderBy(\"Total Pay\",ascending=False).show()"
   ]
  },
  {
   "cell_type": "code",
   "execution_count": 54,
   "id": "a78f23b7",
   "metadata": {},
   "outputs": [
    {
     "name": "stdout",
     "output_type": "stream",
     "text": [
      "Cantidad de salarios/juegoGanado es = 76\n"
     ]
    }
   ],
   "source": [
    "#Devuelve el conteo de todos los salarios por juego ganado mayores a 15,300,000 y muestra el resultado en pantalla\n",
    "newDF2 = dfPlayers.withColumn(\"SalaryPerWinnings\", regexp_replace(col(\"Salary/Winnings\"), \"[^\\d.]\", \"\").cast(\"int\"))\n",
    "newConteo = newDF2.filter(newDF2[\"SalaryPerWinnings\"] > 15300000).count()\n",
    "print(\"Cantidad de salarios/juegoGanado es =\",newConteo)"
   ]
  },
  {
   "cell_type": "code",
   "execution_count": 55,
   "id": "90b2ccb9",
   "metadata": {},
   "outputs": [
    {
     "name": "stdout",
     "output_type": "stream",
     "text": [
      "Cantidad de salarios por endoso es = 65\n"
     ]
    }
   ],
   "source": [
    "#Devuelve el conteo de todos los salarios por endoso mayores a 800,000 y muestra el resultado en pantalla\n",
    "newDF3 = dfPlayers.withColumn(\"Endosos\", regexp_replace(col(\"Endorsements\"), \"[^\\d.]\", \"\").cast(\"int\"))\n",
    "newConteo = newDF3.filter(newDF3[\"Endosos\"] > 800000).count()\n",
    "print(\"Cantidad de salarios por endoso es =\",newConteo)"
   ]
  },
  {
   "cell_type": "code",
   "execution_count": 56,
   "id": "9c43a0fb",
   "metadata": {},
   "outputs": [
    {
     "name": "stdout",
     "output_type": "stream",
     "text": [
      "El salario MAX es 105000000\n"
     ]
    }
   ],
   "source": [
    "#Devuelve el Salario total máximo de todo el set de datos y muestra el resultado en pantalla\n",
    "newDF1 = dfPlayers.withColumn(\"Totales\", regexp_replace(col(\"Total Pay\"), \"[^\\d.]\", \"\").cast(\"int\"))\n",
    "maximo = newDF1.agg(max(\"Totales\")).first()[0]\n",
    "print(\"El salario MAX es\",maximo)"
   ]
  },
  {
   "cell_type": "code",
   "execution_count": 57,
   "id": "87a63f30",
   "metadata": {},
   "outputs": [
    {
     "name": "stdout",
     "output_type": "stream",
     "text": [
      "El salario MIN es 17300000\n"
     ]
    }
   ],
   "source": [
    "#Devuelve el Salario total mínimo de todo el set de datos y muestra el resultado en pantalla\n",
    "newDF1 = dfPlayers.withColumn(\"Totales\", regexp_replace(col(\"Total Pay\"), \"[^\\d.]\", \"\").cast(\"int\"))\n",
    "maximo = newDF1.agg(min(\"Totales\")).first()[0]\n",
    "print(\"El salario MIN es\",maximo)"
   ]
  },
  {
   "cell_type": "code",
   "execution_count": 64,
   "id": "c1d80b78",
   "metadata": {},
   "outputs": [
    {
     "name": "stdout",
     "output_type": "stream",
     "text": [
      " Suma Totales: 2751385000 \n",
      " Suma SalarioXGanada: 2009900000 \n",
      " Suma SalarioEndosado: 741485000\n"
     ]
    }
   ],
   "source": [
    "#Devuelve la suma y promedio de los salarios de cada columna y muestra el resultado en pantalla\n",
    "sumaTotales = newDF1.agg(sum(\"Totales\")).first()[0]\n",
    "sumaSalarioXGanada = newDF2.agg(sum(\"SalaryPerWinnings\")).first()[0]\n",
    "sumaSalarioEndosado = newDF3.agg(sum(\"Endosos\")).first()[0]\n",
    "print(\" Suma Totales:\",sumaTotales,\"\\n\",\"Suma SalarioXGanada:\",sumaSalarioXGanada,\n",
    "      \"\\n\",\"Suma SalarioEndosado:\",sumaSalarioEndosado)"
   ]
  },
  {
   "cell_type": "code",
   "execution_count": null,
   "id": "0e9c2b89",
   "metadata": {},
   "outputs": [],
   "source": []
  }
 ],
 "metadata": {
  "kernelspec": {
   "display_name": "Python 3 (ipykernel)",
   "language": "python",
   "name": "python3"
  },
  "language_info": {
   "codemirror_mode": {
    "name": "ipython",
    "version": 3
   },
   "file_extension": ".py",
   "mimetype": "text/x-python",
   "name": "python",
   "nbconvert_exporter": "python",
   "pygments_lexer": "ipython3",
   "version": "3.10.9"
  },
  "varInspector": {
   "cols": {
    "lenName": 16,
    "lenType": 16,
    "lenVar": 40
   },
   "kernels_config": {
    "python": {
     "delete_cmd_postfix": "",
     "delete_cmd_prefix": "del ",
     "library": "var_list.py",
     "varRefreshCmd": "print(var_dic_list())"
    },
    "r": {
     "delete_cmd_postfix": ") ",
     "delete_cmd_prefix": "rm(",
     "library": "var_list.r",
     "varRefreshCmd": "cat(var_dic_list()) "
    }
   },
   "types_to_exclude": [
    "module",
    "function",
    "builtin_function_or_method",
    "instance",
    "_Feature"
   ],
   "window_display": false
  }
 },
 "nbformat": 4,
 "nbformat_minor": 5
}
