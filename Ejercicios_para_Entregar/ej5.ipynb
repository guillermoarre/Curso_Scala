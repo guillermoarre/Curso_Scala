{
 "cells": [
  {
   "cell_type": "markdown",
   "id": "b78eb856",
   "metadata": {},
   "source": [
    "## EJERCICIO 5"
   ]
  },
  {
   "cell_type": "code",
   "execution_count": 1,
   "id": "d1c73b81",
   "metadata": {},
   "outputs": [],
   "source": [
    "import findspark\n",
    "findspark.init()\n",
    "\n",
    "import pandas as pd\n",
    "import pyspark\n",
    "from pyspark.sql import SparkSession\n",
    "from pyspark.sql.functions import *\n",
    "\n",
    "spark = SparkSession.builder.getOrCreate()"
   ]
  },
  {
   "cell_type": "code",
   "execution_count": 4,
   "id": "482017b0",
   "metadata": {
    "scrolled": false
   },
   "outputs": [
    {
     "name": "stdout",
     "output_type": "stream",
     "text": [
      "+----+-----------------+----------+--------------------+------+-----------+---------------+------------+------------------+----+----------+--------------------+---+\n",
      "|Rank|             Name|     Sport|      Wikipedia Page|Gender|  Total Pay|Salary/Winnings|Endorsements|           Country|Year|      Date|                Home|_c5|\n",
      "+----+-----------------+----------+--------------------+------+-----------+---------------+------------+------------------+----+----------+--------------------+---+\n",
      "|  55|    Aaron Rodgers|  Football|http://en.wikiped...|  Male|$22,000,000|    $11,000,000| $11,000,000|     United States|1981|26/09/1981|Saginaw, Michigan...|175|\n",
      "|  55|    Aaron Rodgers|  Football|http://en.wikiped...|  Male|$22,000,000|    $11,000,000| $11,000,000|     United States|1983| 2/12/1983|Chico, California...|188|\n",
      "|  55|    Aaron Rodgers|  Football|http://en.wikiped...|  Male|$22,000,000|    $14,500,000|  $7,500,000|     United States|1981|26/09/1981|Saginaw, Michigan...|175|\n",
      "|  55|    Aaron Rodgers|  Football|http://en.wikiped...|  Male|$22,000,000|    $14,500,000|  $7,500,000|     United States|1983| 2/12/1983|Chico, California...|188|\n",
      "|  95|       Adam Scott|      Golf|https://en.wikipe...|  Male|$17,700,000|     $8,700,000|  $9,000,000|         Australia|1980|16/07/1980| Adelaide, Australia|183|\n",
      "|  60|  Adrian Gonzalez|  Baseball|http://en.wikiped...|  Male|$21,500,000|    $18,000,000|  $3,500,000|Dominican Republic|1982|22/11/1982|San Pedro de Maco...|183|\n",
      "|  60|  Adrian Gonzalez|  Baseball|http://en.wikiped...|  Male|$21,500,000|    $18,000,000|  $3,500,000|     United States|1982|08/05/1982|San Diego, Califo...|188|\n",
      "|  60|  Adrian Gonzalez|  Baseball|http://en.wikiped...|  Male|$21,500,000|    $21,100,000|    $400,000|Dominican Republic|1982|22/11/1982|San Pedro de Maco...|183|\n",
      "|  60|  Adrian Gonzalez|  Baseball|http://en.wikiped...|  Male|$21,500,000|    $21,100,000|    $400,000|     United States|1982|08/05/1982|San Diego, Califo...|188|\n",
      "|  48|   Alex Rodriguez|  Baseball|http://en.wikiped...|  Male|$22,900,000|    $22,500,000|    $400,000|         Venezuela|1979|13/03/1979|   Mérida, Venezuela|183|\n",
      "|  48|   Alex Rodriguez|  Baseball|http://en.wikiped...|  Male|$22,900,000|    $22,500,000|    $400,000|     United States|1975|27/07/1975|       New York City|190|\n",
      "|  48|   Alex Rodriguez|  Baseball|http://en.wikiped...|  Male|$22,900,000|    $22,600,000|    $300,000|         Venezuela|1979|13/03/1979|   Mérida, Venezuela|183|\n",
      "|  48|   Alex Rodriguez|  Baseball|http://en.wikiped...|  Male|$22,900,000|    $22,600,000|    $300,000|     United States|1975|27/07/1975|       New York City|190|\n",
      "|  93|  Alfonso Soriano|  Baseball|http://en.wikiped...|  Male|$18,050,000|    $18,000,000|     $50,000|Dominican Republic|1976|07/01/1976|San Pedro de Maco...|185|\n",
      "|  27|Amar'e Stoudemire|Basketball|http://en.wikiped...|  Male|$26,700,000|    $21,700,000|  $5,000,000|     United States|1982|16/11/1982| Lake Wales, Florida|211|\n",
      "|  75|       Barry Zito|  Baseball|http://en.wikiped...|  Male|$20,400,000|    $20,000,000|    $400,000|     United States|1984| 1/10/1984|     Dothan, Alabama|190|\n",
      "|  75|       Barry Zito|  Baseball|http://en.wikiped...|  Male|$20,400,000|    $20,000,000|    $400,000|     United States|1978|13/05/1978|Las Vegas Valley,...|188|\n",
      "|  75|       Barry Zito|  Baseball|http://en.wikiped...|  Male|$20,400,000|    $20,300,000|    $100,000|     United States|1984| 1/10/1984|     Dothan, Alabama|190|\n",
      "|  75|       Barry Zito|  Baseball|http://en.wikiped...|  Male|$20,400,000|    $20,300,000|    $100,000|     United States|1978|13/05/1978|Las Vegas Valley,...|188|\n",
      "|  47|    Blake Griffin|Basketball|http://en.wikiped...|  Male|$23,000,000|    $16,500,000|  $6,500,000|     United States|1989|16/03/1989|Oklahoma City, Ok...|208|\n",
      "+----+-----------------+----------+--------------------+------+-----------+---------------+------------+------------------+----+----------+--------------------+---+\n",
      "only showing top 20 rows\n",
      "\n"
     ]
    }
   ],
   "source": [
    "## Inicializa una sesión en Spark en consola y coloca en una variable llamada playersPersInfo la información\n",
    "## del archivo t_players_info.csv, t_players_salary.csv, t_players_pers_info.csv considerando la realización\n",
    "## de un left join; usa como llave primaria el campo Rank y muestra el resultado en pantalla\n",
    "info_df = spark.read.csv(\"data/t_players_info.csv\", header=True, inferSchema=True)\n",
    "salary_df = spark.read.csv(\"data/t_players_salary.csv\", sep=\"|\", header=True, inferSchema=True)\n",
    "pers_df = spark.read.csv(\"data/t_players_pers_info.csv\", inferSchema=True)\n",
    "\n",
    "pers_renamed_df = pers_df.withColumnRenamed(\"_c0\", \"Rank\").withColumnRenamed(\"_c1\", \"Country\").withColumnRenamed(\n",
    "    \"_c2\", \"Year\").withColumnRenamed(\"_c3\", \"Date\").withColumnRenamed(\"_c4\", \"Home\")\n",
    "\n",
    "playersPersInfo = info_df.join(salary_df, [\"Rank\"], \"left\").join(pers_renamed_df, [\"Rank\"], \"left\")\n",
    "playersPersInfo.show()"
   ]
  },
  {
   "cell_type": "code",
   "execution_count": 5,
   "id": "b6bc336c",
   "metadata": {},
   "outputs": [
    {
     "name": "stdout",
     "output_type": "stream",
     "text": [
      "root\n",
      " |-- Rank: integer (nullable = true)\n",
      " |-- Name: string (nullable = true)\n",
      " |-- Sport: string (nullable = true)\n",
      " |-- Wikipedia Page: string (nullable = true)\n",
      " |-- Gender: string (nullable = true)\n",
      " |-- Total Pay: string (nullable = true)\n",
      " |-- Salary/Winnings: string (nullable = true)\n",
      " |-- Endorsements: string (nullable = true)\n",
      " |-- Country: string (nullable = true)\n",
      " |-- Year: integer (nullable = true)\n",
      " |-- Date: string (nullable = true)\n",
      " |-- Home: string (nullable = true)\n",
      " |-- _c5: integer (nullable = true)\n",
      "\n"
     ]
    }
   ],
   "source": [
    "## Muestra el tipo de dato de cada columna\n",
    "playersPersInfo.printSchema()"
   ]
  },
  {
   "cell_type": "code",
   "execution_count": 6,
   "id": "1b555819",
   "metadata": {},
   "outputs": [
    {
     "name": "stdout",
     "output_type": "stream",
     "text": [
      "+----+---------------+----------+--------------------+------+-----------+---------------+------------+------------------+----+----------+--------------------+---+\n",
      "|Rank|           Name|     Sport|      Wikipedia Page|Gender|  Total Pay|Salary/Winnings|Endorsements|           Country|Year|      Date|                Home|_c5|\n",
      "+----+---------------+----------+--------------------+------+-----------+---------------+------------+------------------+----+----------+--------------------+---+\n",
      "|  95|     Adam Scott|      Golf|https://en.wikipe...|  Male|$17,700,000|     $8,700,000|  $9,000,000|         Australia|1980|16/07/1980| Adelaide, Australia|183|\n",
      "|  60|Adrian Gonzalez|  Baseball|http://en.wikiped...|  Male|$21,500,000|    $18,000,000|  $3,500,000|Dominican Republic|1982|22/11/1982|San Pedro de Maco...|183|\n",
      "|  60|Adrian Gonzalez|  Baseball|http://en.wikiped...|  Male|$21,500,000|    $21,100,000|    $400,000|Dominican Republic|1982|22/11/1982|San Pedro de Maco...|183|\n",
      "|  48| Alex Rodriguez|  Baseball|http://en.wikiped...|  Male|$22,900,000|    $22,500,000|    $400,000|         Venezuela|1979|13/03/1979|   Mérida, Venezuela|183|\n",
      "|  48| Alex Rodriguez|  Baseball|http://en.wikiped...|  Male|$22,900,000|    $22,600,000|    $300,000|         Venezuela|1979|13/03/1979|   Mérida, Venezuela|183|\n",
      "|  93|Alfonso Soriano|  Baseball|http://en.wikiped...|  Male|$18,050,000|    $18,000,000|     $50,000|Dominican Republic|1976|07/01/1976|San Pedro de Maco...|185|\n",
      "|  57|     Chris Bosh|Basketball|http://en.wikiped...|  Male|$21,800,000|    $19,300,000|  $2,500,000|             Spain|1980|06/07/1980|    Barcelona, Spain|213|\n",
      "|  57|     Chris Bosh|Basketball|http://en.wikiped...|  Male|$21,800,000|    $19,300,000|  $2,500,000|             Spain|1980|06/07/1980|    Barcelona, Spain|213|\n",
      "|  80|    David Ortiz|  Baseball|http://en.wikiped...|  Male|$19,800,000|    $14,800,000|  $5,000,000|Dominican Republic|1975|18/11/1975|Santo Domingo, Do...|195|\n",
      "|  35|    Derek Jeter|  Baseball|http://en.wikiped...|  Male|$24,300,000|     $4,300,000| $20,000,000|  Northern Ireland|1989|04/05/1989|County Down, Nort...|175|\n",
      "|  35|    Derek Jeter|  Baseball|http://en.wikiped...|  Male|$24,300,000|    $15,300,000|  $9,000,000|  Northern Ireland|1989|04/05/1989|County Down, Nort...|175|\n",
      "|  45|  Dirk Nowitzki|Basketball|http://en.wikiped...|  Male|$23,200,000|       $200,000| $23,000,000|           Jamaica|1986|21/08/1986|Trelawny Parish, ...|196|\n",
      "|  45|  Dirk Nowitzki|Basketball|http://en.wikiped...|  Male|$23,200,000|       $200,000| $23,000,000|           Germany|1978|19/06/1978|West Germany, Wür...|213|\n",
      "|  45|  Dirk Nowitzki|Basketball|http://en.wikiped...|  Male|$23,200,000|    $22,700,000|    $500,000|           Jamaica|1986|21/08/1986|Trelawny Parish, ...|196|\n",
      "|  45|  Dirk Nowitzki|Basketball|http://en.wikiped...|  Male|$23,200,000|    $22,700,000|    $500,000|           Germany|1978|19/06/1978|West Germany, Wür...|213|\n",
      "|  66|     Drew Brees|  Football|http://en.wikiped...|  Male|$21,000,000|    $19,500,000|  $1,500,000|            Mexico|1990|18/07/1990|Guadalajara, Jali...|180|\n",
      "|  66|     Drew Brees|  Football|http://en.wikiped...|  Male|$21,000,000|    $13,500,000|  $7,500,000|            Mexico|1990|18/07/1990|Guadalajara, Jali...|180|\n",
      "|  66|     Drew Brees|  Football|http://en.wikiped...|  Male|$21,000,000|    $10,000,000| $11,000,000|            Mexico|1990|18/07/1990|Guadalajara, Jali...|180|\n",
      "|  66|    Eli Manning|  Football|http://en.wikiped...|  Male|$21,000,000|    $19,500,000|  $1,500,000|            Mexico|1990|18/07/1990|Guadalajara, Jali...|180|\n",
      "|  66|    Eli Manning|  Football|http://en.wikiped...|  Male|$21,000,000|    $13,500,000|  $7,500,000|            Mexico|1990|18/07/1990|Guadalajara, Jali...|180|\n",
      "+----+---------------+----------+--------------------+------+-----------+---------------+------------+------------------+----+----------+--------------------+---+\n",
      "only showing top 20 rows\n",
      "\n"
     ]
    }
   ],
   "source": [
    "## Filtra solo por los jugadores que no viven en los Estados Unidos\n",
    "playersNoUSA = playersPersInfo.filter(col(\"Country\") != \"United States\")\n",
    "playersNoUSA.show()"
   ]
  },
  {
   "cell_type": "code",
   "execution_count": 9,
   "id": "32bf379a",
   "metadata": {},
   "outputs": [
    {
     "name": "stdout",
     "output_type": "stream",
     "text": [
      "+----+----------------+--------+--------------------+------+-----------+---------------+------------+----------------+----+----------+--------------------+---+\n",
      "|Rank|            Name|   Sport|      Wikipedia Page|Gender|  Total Pay|Salary/Winnings|Endorsements|         Country|Year|      Date|                Home|_c5|\n",
      "+----+----------------+--------+--------------------+------+-----------+---------------+------------+----------------+----+----------+--------------------+---+\n",
      "|  16|          Neymar|  Soccer|http://en.wikiped...|  Male|$33,600,000|    $17,600,000| $16,000,000|          Brazil|1992|05/02/1992|Mogi das Cruzes, ...|175|\n",
      "|  66|     Eli Manning|Football|http://en.wikiped...|  Male|$21,000,000|    $10,000,000| $11,000,000|          Mexico|1990|18/07/1990|Guadalajara, Jali...|180|\n",
      "|  66|      Drew Brees|Football|http://en.wikiped...|  Male|$21,000,000|    $10,000,000| $11,000,000|          Mexico|1990|18/07/1990|Guadalajara, Jali...|180|\n",
      "|  66|     Eli Manning|Football|http://en.wikiped...|  Male|$21,000,000|    $19,500,000|  $1,500,000|          Mexico|1990|18/07/1990|Guadalajara, Jali...|180|\n",
      "|  66|      Drew Brees|Football|http://en.wikiped...|  Male|$21,000,000|    $19,500,000|  $1,500,000|          Mexico|1990|18/07/1990|Guadalajara, Jali...|180|\n",
      "|  66|     Eli Manning|Football|http://en.wikiped...|  Male|$21,000,000|    $13,500,000|  $7,500,000|          Mexico|1990|18/07/1990|Guadalajara, Jali...|180|\n",
      "|  66|  Canelo Alvarez|  Boxing|http://en.wikiped...|  Male|$21,000,000|    $19,500,000|  $1,500,000|          Mexico|1990|18/07/1990|Guadalajara, Jali...|180|\n",
      "|  66|  Canelo Alvarez|  Boxing|http://en.wikiped...|  Male|$21,000,000|    $13,500,000|  $7,500,000|          Mexico|1990|18/07/1990|Guadalajara, Jali...|180|\n",
      "|  66|  Canelo Alvarez|  Boxing|http://en.wikiped...|  Male|$21,000,000|    $10,000,000| $11,000,000|          Mexico|1990|18/07/1990|Guadalajara, Jali...|180|\n",
      "|  66|      Drew Brees|Football|http://en.wikiped...|  Male|$21,000,000|    $13,500,000|  $7,500,000|          Mexico|1990|18/07/1990|Guadalajara, Jali...|180|\n",
      "|  35|     Derek Jeter|Baseball|http://en.wikiped...|  Male|$24,300,000|    $15,300,000|  $9,000,000|Northern Ireland|1989|04/05/1989|County Down, Nort...|175|\n",
      "|  14|     Gareth Bale|  Soccer|http://en.wikiped...|  Male|$36,400,000|    $25,400,000| $11,000,000|           Wales|1989|16/07/1989|      Cardiff, Wales|183|\n",
      "|  35|    Rory McIlroy|    Golf|http://en.wikiped...|  Male|$24,300,000|     $4,300,000| $20,000,000|Northern Ireland|1989|04/05/1989|County Down, Nort...|175|\n",
      "|  35|    Rory McIlroy|    Golf|http://en.wikiped...|  Male|$24,300,000|    $15,300,000|  $9,000,000|Northern Ireland|1989|04/05/1989|County Down, Nort...|175|\n",
      "|  35|     Derek Jeter|Baseball|http://en.wikiped...|  Male|$24,300,000|     $4,300,000| $20,000,000|Northern Ireland|1989|04/05/1989|County Down, Nort...|175|\n",
      "|  89|Larry Fitzgerald|Football|http://en.wikiped...|  Male|$18,500,000|    $12,500,000|  $6,000,000|         Germany|1988|15/10/1988|Gelsenkirchen, Ge...|181|\n",
      "|  89|      Mesut Özil|  Soccer|http://en.wikiped...|  Male|$18,500,000|    $17,000,000|  $1,500,000|         Germany|1988|15/10/1988|Gelsenkirchen, Ge...|181|\n",
      "|  89|      Mesut Özil|  Soccer|http://en.wikiped...|  Male|$18,500,000|    $12,500,000|  $6,000,000|         Germany|1988|15/10/1988|Gelsenkirchen, Ge...|181|\n",
      "|  89|Larry Fitzgerald|Football|http://en.wikiped...|  Male|$18,500,000|    $17,000,000|  $1,500,000|         Germany|1988|15/10/1988|Gelsenkirchen, Ge...|181|\n",
      "|  44|   Sergio Agüero|  Soccer|http://en.wikiped...|  Male|$23,300,000|    $18,300,000|  $5,000,000|       Argentina|1988|02/06/1988|        Buenos Aires|173|\n",
      "+----+----------------+--------+--------------------+------+-----------+---------------+------------+----------------+----+----------+--------------------+---+\n",
      "only showing top 20 rows\n",
      "\n"
     ]
    }
   ],
   "source": [
    "## Ordena los jugadores del más joven al más veterano\n",
    "playersResult = playersNoUSA.sort(desc(\"Year\"))\n",
    "playersResult.show()"
   ]
  },
  {
   "cell_type": "code",
   "execution_count": 11,
   "id": "644823d6",
   "metadata": {},
   "outputs": [],
   "source": [
    "## Escribe el resultado en un nuevo CSV delimitado por pipes \"|\" y nómbralo csv_result_players_info.csv\n",
    "playersResult.write.mode(\"overwrite\").csv(\"data/csv_result_players_info.csv\", header=True, sep=\"|\")"
   ]
  },
  {
   "cell_type": "code",
   "execution_count": null,
   "id": "5cd2ac06",
   "metadata": {},
   "outputs": [],
   "source": []
  }
 ],
 "metadata": {
  "kernelspec": {
   "display_name": "Python 3 (ipykernel)",
   "language": "python",
   "name": "python3"
  },
  "language_info": {
   "codemirror_mode": {
    "name": "ipython",
    "version": 3
   },
   "file_extension": ".py",
   "mimetype": "text/x-python",
   "name": "python",
   "nbconvert_exporter": "python",
   "pygments_lexer": "ipython3",
   "version": "3.10.9"
  }
 },
 "nbformat": 4,
 "nbformat_minor": 5
}
