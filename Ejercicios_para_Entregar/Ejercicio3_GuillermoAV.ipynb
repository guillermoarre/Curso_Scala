{
 "cells": [
  {
   "cell_type": "markdown",
   "id": "4d722774",
   "metadata": {},
   "source": [
    "# EJERCICIO 3 - Arredondo Vazquez Guillermo\n",
    "Inicializa una sesión de spark en consola y coloca en una variable llamada playersInfo la\n",
    "información del archivo t_players_info.csv y muestra el resultado en pantalla\n",
    "- Muestra el tipo de dato de cada columna\n",
    "- Ordena los valores de menor a mayor de acuerdo a la columna Rank y muestra el resultado en\n",
    "pantalla\n",
    "- Devuelve el conteo de todos los jugadores y muestra el resultado en pantalla\n",
    "- Obtén un conteo de jugadores de acuerdo a su deporte y muestra el resultado en pantalla\n",
    "- Obtén un conteo de jugadores de acuerdo a su género y muestra el resultado en pantalla\n",
    "- Devuelve el resultado de todos los jugadores cuyo nombre comience con la letra “A”"
   ]
  },
  {
   "cell_type": "code",
   "execution_count": 28,
   "id": "e0f3d2e2",
   "metadata": {},
   "outputs": [],
   "source": [
    "#Para utilizar pyspark en notebook es necesario utilizar findspark\n",
    "#con la funcion .init() lo inicializamos\n",
    "import findspark\n",
    "findspark.init()\n",
    "import pandas as pd\n",
    "import pyspark\n",
    "\n",
    "from pyspark.sql import SparkSession\n",
    "#Libreria para utilizar el count\n",
    "from pyspark.sql.functions import *"
   ]
  },
  {
   "cell_type": "code",
   "execution_count": 29,
   "id": "42d9db64",
   "metadata": {},
   "outputs": [],
   "source": [
    "#El sparkSession crea internamente sparkconfig y el sparkContext\n",
    "spark = SparkSession.builder\\\n",
    "        .master(\"local[*]\")\\\n",
    "        .appName('PySApark_Df')\\\n",
    "        .getOrCreate()"
   ]
  },
  {
   "cell_type": "code",
   "execution_count": 30,
   "id": "4a32f261",
   "metadata": {
    "scrolled": true
   },
   "outputs": [
    {
     "name": "stdout",
     "output_type": "stream",
     "text": [
      "+----+-----------------+----------+--------------------+------+\n",
      "|Rank|             Name|     Sport|      Wikipedia Page|Gender|\n",
      "+----+-----------------+----------+--------------------+------+\n",
      "|  55|    Aaron Rodgers|  Football|http://en.wikiped...|  Male|\n",
      "|  95|       Adam Scott|      Golf|https://en.wikipe...|  Male|\n",
      "|  60|  Adrian Gonzalez|  Baseball|http://en.wikiped...|  Male|\n",
      "|  48|   Alex Rodriguez|  Baseball|http://en.wikiped...|  Male|\n",
      "|  93|  Alfonso Soriano|  Baseball|http://en.wikiped...|  Male|\n",
      "|  27|Amar'e Stoudemire|Basketball|http://en.wikiped...|  Male|\n",
      "|  75|       Barry Zito|  Baseball|http://en.wikiped...|  Male|\n",
      "|  47|    Blake Griffin|Basketball|http://en.wikiped...|  Male|\n",
      "|  91|   Branden Albert|  Football|http://en.wikiped...|  Male|\n",
      "|  97| Brandon Marshall|  Football|http://en.wikiped...|  Male|\n",
      "+----+-----------------+----------+--------------------+------+\n",
      "only showing top 10 rows\n",
      "\n"
     ]
    }
   ],
   "source": [
    "#Muestra el resultado en pantalla\n",
    "dfPlayers = spark.read.csv(\"data/t_players_info.csv\", sep=\",\", header=True, inferSchema=True)\n",
    "dfPlayers.show(10)"
   ]
  },
  {
   "cell_type": "code",
   "execution_count": 31,
   "id": "49e68203",
   "metadata": {},
   "outputs": [
    {
     "name": "stdout",
     "output_type": "stream",
     "text": [
      "La columna Rank tiene variables de tipo: int\n",
      "La columna Name tiene variables de tipo: string\n",
      "La columna Sport tiene variables de tipo: string\n",
      "La columna Wikipedia Page tiene variables de tipo: string\n",
      "La columna Gender tiene variables de tipo: string\n"
     ]
    }
   ],
   "source": [
    "#Muestra el tipo de dato de cada columna\n",
    "arreglo1 = dfPlayers.dtypes\n",
    "for nombre, tipo in arreglo1:\n",
    "    print(\"La columna\",nombre,\"tiene variables de tipo:\",tipo)"
   ]
  },
  {
   "cell_type": "code",
   "execution_count": 32,
   "id": "0f5e1b51",
   "metadata": {},
   "outputs": [
    {
     "name": "stdout",
     "output_type": "stream",
     "text": [
      "+----+------------------+----------+--------------------+------+\n",
      "|Rank|              Name|     Sport|      Wikipedia Page|Gender|\n",
      "+----+------------------+----------+--------------------+------+\n",
      "|   1|  Floyd Mayweather|    Boxing|http://en.wikiped...|  Male|\n",
      "|   2| Cristiano Ronaldo|    Soccer|http://en.wikiped...|  Male|\n",
      "|   3|      LeBron James|Basketball|http://en.wikiped...|  Male|\n",
      "|   4|      Lionel Messi|    Soccer|http://en.wikiped...|  Male|\n",
      "|   5|       Kobe Bryant|Basketball|http://en.wikiped...|  Male|\n",
      "|   6|       Tiger Woods|      Golf|http://en.wikiped...|  Male|\n",
      "|   7|     Roger Federer|    Tennis|http://en.wikiped...|  Male|\n",
      "|   8|    Phil Mickelson|      Golf|http://en.wikiped...|  Male|\n",
      "|   9|      Rafael Nadal|    Tennis|http://en.wikiped...|  Male|\n",
      "|  10|         Matt Ryan|  Football|http://en.wikiped...|  Male|\n",
      "|  11|    Manny Pacquiao|    Boxing|http://en.wikiped...|  Male|\n",
      "|  12|Zlatan Ibrahimović|    Soccer|http://en.wikiped...|  Male|\n",
      "|  13|      Derrick Rose|Basketball|http://en.wikiped...|  Male|\n",
      "|  14|       Gareth Bale|    Soccer|http://en.wikiped...|  Male|\n",
      "|  15|    Radamel Falcao|    Soccer|http://en.wikiped...|  Male|\n",
      "|  16|            Neymar|    Soccer|http://en.wikiped...|  Male|\n",
      "|  17|    Novak Djokovic|    Tennis|http://en.wikiped...|  Male|\n",
      "|  18|  Matthew Stafford|  Football|http://en.wikiped...|  Male|\n",
      "|  19|    Lewis Hamilton|    Racing|http://en.wikiped...|  Male|\n",
      "|  20|      Kevin Durant|Basketball|http://en.wikiped...|  Male|\n",
      "+----+------------------+----------+--------------------+------+\n",
      "only showing top 20 rows\n",
      "\n"
     ]
    }
   ],
   "source": [
    "#Ordena los valores de menor a mayor de acuerdo a la columna Rank y muestra el resultado en pantalla\n",
    "dfPlayers.sort(\"Rank\").show(20)"
   ]
  },
  {
   "cell_type": "code",
   "execution_count": 33,
   "id": "483a6bbe",
   "metadata": {},
   "outputs": [
    {
     "name": "stdout",
     "output_type": "stream",
     "text": [
      "La tabla contiene 100 jugadores\n"
     ]
    }
   ],
   "source": [
    "#Devuelve el conteo de todos los jugadores y muestra el resultado en pantalla\n",
    "numPlayers = dfPlayers.count()\n",
    "print(\"La tabla contiene\",numPlayers,\"jugadores\")"
   ]
  },
  {
   "cell_type": "code",
   "execution_count": 50,
   "id": "cb618847",
   "metadata": {},
   "outputs": [
    {
     "name": "stdout",
     "output_type": "stream",
     "text": [
      "+----------+------+\n",
      "|     Sport|conteo|\n",
      "+----------+------+\n",
      "|     Track|     1|\n",
      "|   Cricket|     1|\n",
      "|    Boxing|     4|\n",
      "|      Golf|     5|\n",
      "|    Tennis|     6|\n",
      "|    Racing|     6|\n",
      "|    Soccer|    15|\n",
      "|  Football|    17|\n",
      "|Basketball|    18|\n",
      "|  Baseball|    27|\n",
      "+----------+------+\n",
      "\n"
     ]
    }
   ],
   "source": [
    "#Obtén un conteo de jugadores de acuerdo a su deporte y muestra el resultado en pantalla\n",
    "conteo = dfPlayers.groupBy(\"Sport\").agg(count(\"*\").alias(\"conteo\")).orderBy(\"conteo\")\n",
    "conteo.show()"
   ]
  },
  {
   "cell_type": "code",
   "execution_count": 37,
   "id": "e1c521a8",
   "metadata": {},
   "outputs": [
    {
     "name": "stdout",
     "output_type": "stream",
     "text": [
      "+------+------+\n",
      "|Gender|conteo|\n",
      "+------+------+\n",
      "|Female|     3|\n",
      "|  Male|    97|\n",
      "+------+------+\n",
      "\n"
     ]
    }
   ],
   "source": [
    "#Obtén un conteo de jugadores de acuerdo a su género y muestra el resultado en pantalla\n",
    "(dfPlayers.groupBy(\"Gender\").agg(count(\"*\").alias(\"conteo\")).show())"
   ]
  },
  {
   "cell_type": "code",
   "execution_count": 49,
   "id": "5a83e20a",
   "metadata": {},
   "outputs": [
    {
     "name": "stdout",
     "output_type": "stream",
     "text": [
      "+----+-----------------+----------+--------------------+------+\n",
      "|Rank|             Name|     Sport|      Wikipedia Page|Gender|\n",
      "+----+-----------------+----------+--------------------+------+\n",
      "|  55|    Aaron Rodgers|  Football|http://en.wikiped...|  Male|\n",
      "|  95|       Adam Scott|      Golf|https://en.wikipe...|  Male|\n",
      "|  60|  Adrian Gonzalez|  Baseball|http://en.wikiped...|  Male|\n",
      "|  48|   Alex Rodriguez|  Baseball|http://en.wikiped...|  Male|\n",
      "|  93|  Alfonso Soriano|  Baseball|http://en.wikiped...|  Male|\n",
      "|  27|Amar'e Stoudemire|Basketball|http://en.wikiped...|  Male|\n",
      "|  77|    Albert Pujols|  Baseball|http://en.wikiped...|  Male|\n",
      "+----+-----------------+----------+--------------------+------+\n",
      "\n"
     ]
    }
   ],
   "source": [
    "#Devuelve el resultado de todos los jugadores cuyo nombre comience con la letra “A”\n",
    "dfPlayers.createOrReplaceTempView(\"temp_play\")\n",
    "spark.sql(\"SELECT * FROM temp_play WHERE Name like 'A%'\").show() "
   ]
  },
  {
   "cell_type": "code",
   "execution_count": null,
   "id": "292bfba7",
   "metadata": {},
   "outputs": [],
   "source": []
  }
 ],
 "metadata": {
  "kernelspec": {
   "display_name": "Python 3 (ipykernel)",
   "language": "python",
   "name": "python3"
  },
  "language_info": {
   "codemirror_mode": {
    "name": "ipython",
    "version": 3
   },
   "file_extension": ".py",
   "mimetype": "text/x-python",
   "name": "python",
   "nbconvert_exporter": "python",
   "pygments_lexer": "ipython3",
   "version": "3.10.9"
  },
  "varInspector": {
   "cols": {
    "lenName": 16,
    "lenType": 16,
    "lenVar": 40
   },
   "kernels_config": {
    "python": {
     "delete_cmd_postfix": "",
     "delete_cmd_prefix": "del ",
     "library": "var_list.py",
     "varRefreshCmd": "print(var_dic_list())"
    },
    "r": {
     "delete_cmd_postfix": ") ",
     "delete_cmd_prefix": "rm(",
     "library": "var_list.r",
     "varRefreshCmd": "cat(var_dic_list()) "
    }
   },
   "types_to_exclude": [
    "module",
    "function",
    "builtin_function_or_method",
    "instance",
    "_Feature"
   ],
   "window_display": false
  }
 },
 "nbformat": 4,
 "nbformat_minor": 5
}
