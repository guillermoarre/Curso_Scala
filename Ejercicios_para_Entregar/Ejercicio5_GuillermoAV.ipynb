{
 "cells": [
  {
   "cell_type": "markdown",
   "id": "404342f0",
   "metadata": {},
   "source": [
    "# EJERCICIO 5 - Arredondo Vazquez Guillermo\n",
    "Inicializa una sesión de spark en consola y coloca en una variable llamada playersPersInfo la\n",
    "información del archivo t_players_info.csv, t_players_salary.csv, t_players_pers_info.csv\n",
    "considerando la realización de un left join; usa como llave primaria el campo Rank y muestra el\n",
    "resultado en pantalla.\n",
    "- Muestra el tipo de dato de cada columna.\n",
    "- Filtra solo por los jugadores que no viven en los Estados Unidos\n",
    "- Ordena los jugadores del más joven al más veterano\n",
    "- Escribe el resultado en un nuevo CSV delimitado por pipes “|” y nómbralo\n",
    "csv_result_players_info.csv"
   ]
  },
  {
   "cell_type": "code",
   "execution_count": 1,
   "id": "f33e2874",
   "metadata": {},
   "outputs": [],
   "source": [
    "#Para utilizar pyspark en notebook es necesario utilizar findspark\n",
    "#con la funcion .init() lo inicializamos\n",
    "import findspark\n",
    "findspark.init()\n",
    "import pandas as pd\n",
    "import pyspark\n",
    "\n",
    "from pyspark.sql import SparkSession\n",
    "from pyspark.sql.functions import col, to_date\n",
    "#Libreria para utilizar el count\n",
    "from pyspark.sql.functions import *"
   ]
  },
  {
   "cell_type": "code",
   "execution_count": 2,
   "id": "41c3a0fc",
   "metadata": {},
   "outputs": [],
   "source": [
    "#El sparkSession crea internamente sparkconfig y el sparkContext\n",
    "spark = SparkSession.builder\\\n",
    "        .master(\"local[*]\")\\\n",
    "        .appName('PySpark_Df')\\\n",
    "        .getOrCreate()"
   ]
  },
  {
   "cell_type": "code",
   "execution_count": 62,
   "id": "9145e5bf",
   "metadata": {
    "scrolled": true
   },
   "outputs": [
    {
     "name": "stdout",
     "output_type": "stream",
     "text": [
      "+----+---------------+--------+--------------------+------+-----------+---------------+------------+------------------+----+----------+--------------------+--------+\n",
      "|Rank|           Name|   Sport|      Wikipedia Page|Gender|  Total Pay|Salary/Winnings|Endorsements|           Country|Year|      Date|                Home|Winnings|\n",
      "+----+---------------+--------+--------------------+------+-----------+---------------+------------+------------------+----+----------+--------------------+--------+\n",
      "|  55|  Aaron Rodgers|Football|http://en.wikiped...|  Male|$22,000,000|    $11,000,000| $11,000,000|     United States|1981|26/09/1981|Saginaw, Michigan...|     175|\n",
      "|  55|  Aaron Rodgers|Football|http://en.wikiped...|  Male|$22,000,000|    $11,000,000| $11,000,000|     United States|1983| 2/12/1983|Chico, California...|     188|\n",
      "|  55|  Aaron Rodgers|Football|http://en.wikiped...|  Male|$22,000,000|    $14,500,000|  $7,500,000|     United States|1981|26/09/1981|Saginaw, Michigan...|     175|\n",
      "|  55|  Aaron Rodgers|Football|http://en.wikiped...|  Male|$22,000,000|    $14,500,000|  $7,500,000|     United States|1983| 2/12/1983|Chico, California...|     188|\n",
      "|  95|     Adam Scott|    Golf|https://en.wikipe...|  Male|$17,700,000|     $8,700,000|  $9,000,000|         Australia|1980|16/07/1980| Adelaide, Australia|     183|\n",
      "|  60|Adrian Gonzalez|Baseball|http://en.wikiped...|  Male|$21,500,000|    $18,000,000|  $3,500,000|Dominican Republic|1982|22/11/1982|San Pedro de Maco...|     183|\n",
      "|  60|Adrian Gonzalez|Baseball|http://en.wikiped...|  Male|$21,500,000|    $18,000,000|  $3,500,000|     United States|1982|08/05/1982|San Diego, Califo...|     188|\n",
      "|  60|Adrian Gonzalez|Baseball|http://en.wikiped...|  Male|$21,500,000|    $21,100,000|    $400,000|Dominican Republic|1982|22/11/1982|San Pedro de Maco...|     183|\n",
      "|  60|Adrian Gonzalez|Baseball|http://en.wikiped...|  Male|$21,500,000|    $21,100,000|    $400,000|     United States|1982|08/05/1982|San Diego, Califo...|     188|\n",
      "|  48| Alex Rodriguez|Baseball|http://en.wikiped...|  Male|$22,900,000|    $22,500,000|    $400,000|         Venezuela|1979|13/03/1979|   Mérida, Venezuela|     183|\n",
      "+----+---------------+--------+--------------------+------+-----------+---------------+------------+------------------+----+----------+--------------------+--------+\n",
      "only showing top 10 rows\n",
      "\n"
     ]
    }
   ],
   "source": [
    "#Muestra el tipo de dato de cada columna\n",
    "dfInfo =spark.read.csv(\"data/t_players_info.csv\", sep=\",\", header=True, inferSchema=True)\n",
    "dfSal = spark.read.csv(\"data/t_players_salary.csv\", sep=\"|\", header=True, inferSchema=True)\n",
    "dfPer = spark.read.csv(\"data/t_players_pers_info.csv\", sep=\",\", header=False, inferSchema=True)\n",
    "\n",
    "dfPer2 = dfPer.withColumnRenamed(\"_c0\", \"Rank\")\\\n",
    ".withColumnRenamed(\"_c1\", \"Country\").withColumnRenamed(\"_c2\", \"Year\")\\\n",
    ".withColumnRenamed(\"_c3\", \"Date\").withColumnRenamed(\"_c4\", \"Home\")\\\n",
    ".withColumnRenamed(\"_c5\", \"Winnings\")\n",
    "\n",
    "playersPersInfo = dfInfo.join(dfSal, [\"Rank\"], \"left\").join(dfPer2,[\"Rank\"],\"left\")\n",
    "playersPersInfo.show(10)\n"
   ]
  },
  {
   "cell_type": "code",
   "execution_count": 54,
   "id": "031f780a",
   "metadata": {},
   "outputs": [
    {
     "name": "stdout",
     "output_type": "stream",
     "text": [
      "root\n",
      " |-- Rank: integer (nullable = true)\n",
      " |-- Name: string (nullable = true)\n",
      " |-- Sport: string (nullable = true)\n",
      " |-- Wikipedia Page: string (nullable = true)\n",
      " |-- Gender: string (nullable = true)\n",
      " |-- Total Pay: string (nullable = true)\n",
      " |-- Salary/Winnings: string (nullable = true)\n",
      " |-- Endorsements: string (nullable = true)\n",
      " |-- Country: string (nullable = true)\n",
      " |-- Year: integer (nullable = true)\n",
      " |-- Date: string (nullable = true)\n",
      " |-- Home: string (nullable = true)\n",
      " |-- Winnings: integer (nullable = true)\n",
      "\n"
     ]
    }
   ],
   "source": [
    "#Muestra el tipo de dato de cada columna.\n",
    "playersPersInfo.printSchema()\n"
   ]
  },
  {
   "cell_type": "code",
   "execution_count": 80,
   "id": "afe77464",
   "metadata": {},
   "outputs": [
    {
     "name": "stdout",
     "output_type": "stream",
     "text": [
      "+----+---------------+----------+--------------------+------+-----------+---------------+------------+------------------+----+----------+--------------------+--------+\n",
      "|Rank|           Name|     Sport|      Wikipedia Page|Gender|  Total Pay|Salary/Winnings|Endorsements|           Country|Year|      Date|                Home|Winnings|\n",
      "+----+---------------+----------+--------------------+------+-----------+---------------+------------+------------------+----+----------+--------------------+--------+\n",
      "|  95|     Adam Scott|      Golf|https://en.wikipe...|  Male|$17,700,000|     $8,700,000|  $9,000,000|         Australia|1980|16/07/1980| Adelaide, Australia|     183|\n",
      "|  60|Adrian Gonzalez|  Baseball|http://en.wikiped...|  Male|$21,500,000|    $18,000,000|  $3,500,000|Dominican Republic|1982|22/11/1982|San Pedro de Maco...|     183|\n",
      "|  60|Adrian Gonzalez|  Baseball|http://en.wikiped...|  Male|$21,500,000|    $21,100,000|    $400,000|Dominican Republic|1982|22/11/1982|San Pedro de Maco...|     183|\n",
      "|  48| Alex Rodriguez|  Baseball|http://en.wikiped...|  Male|$22,900,000|    $22,500,000|    $400,000|         Venezuela|1979|13/03/1979|   Mérida, Venezuela|     183|\n",
      "|  48| Alex Rodriguez|  Baseball|http://en.wikiped...|  Male|$22,900,000|    $22,600,000|    $300,000|         Venezuela|1979|13/03/1979|   Mérida, Venezuela|     183|\n",
      "|  93|Alfonso Soriano|  Baseball|http://en.wikiped...|  Male|$18,050,000|    $18,000,000|     $50,000|Dominican Republic|1976|07/01/1976|San Pedro de Maco...|     185|\n",
      "|  57|     Chris Bosh|Basketball|http://en.wikiped...|  Male|$21,800,000|    $19,300,000|  $2,500,000|             Spain|1980|06/07/1980|    Barcelona, Spain|     213|\n",
      "|  57|     Chris Bosh|Basketball|http://en.wikiped...|  Male|$21,800,000|    $19,300,000|  $2,500,000|             Spain|1980|06/07/1980|    Barcelona, Spain|     213|\n",
      "|  80|    David Ortiz|  Baseball|http://en.wikiped...|  Male|$19,800,000|    $14,800,000|  $5,000,000|Dominican Republic|1975|18/11/1975|Santo Domingo, Do...|     195|\n",
      "|  35|    Derek Jeter|  Baseball|http://en.wikiped...|  Male|$24,300,000|     $4,300,000| $20,000,000|  Northern Ireland|1989|04/05/1989|County Down, Nort...|     175|\n",
      "+----+---------------+----------+--------------------+------+-----------+---------------+------------+------------------+----+----------+--------------------+--------+\n",
      "only showing top 10 rows\n",
      "\n"
     ]
    }
   ],
   "source": [
    "#Filtra solo por los jugadores que no viven en los Estados Unidos\n",
    "noUSA = playersPersInfo.filter(playersPersInfo[\"Country\"] != 'United States')\n",
    "noUSA.show(10)\n"
   ]
  },
  {
   "cell_type": "code",
   "execution_count": 81,
   "id": "805c78c2",
   "metadata": {},
   "outputs": [
    {
     "name": "stdout",
     "output_type": "stream",
     "text": [
      "+----+--------------+--------+--------------------+------+-----------+---------------+------------+-------+----+----------+--------------------+--------+\n",
      "|Rank|          Name|   Sport|      Wikipedia Page|Gender|  Total Pay|Salary/Winnings|Endorsements|Country|Year|      Date|                Home|Winnings|\n",
      "+----+--------------+--------+--------------------+------+-----------+---------------+------------+-------+----+----------+--------------------+--------+\n",
      "|  16|        Neymar|  Soccer|http://en.wikiped...|  Male|$33,600,000|    $17,600,000| $16,000,000| Brazil|1992|05/02/1992|Mogi das Cruzes, ...|     175|\n",
      "|  66|   Eli Manning|Football|http://en.wikiped...|  Male|$21,000,000|    $13,500,000|  $7,500,000| Mexico|1990|18/07/1990|Guadalajara, Jali...|     180|\n",
      "|  66|   Eli Manning|Football|http://en.wikiped...|  Male|$21,000,000|    $19,500,000|  $1,500,000| Mexico|1990|18/07/1990|Guadalajara, Jali...|     180|\n",
      "|  66|Canelo Alvarez|  Boxing|http://en.wikiped...|  Male|$21,000,000|    $19,500,000|  $1,500,000| Mexico|1990|18/07/1990|Guadalajara, Jali...|     180|\n",
      "|  66|    Drew Brees|Football|http://en.wikiped...|  Male|$21,000,000|    $10,000,000| $11,000,000| Mexico|1990|18/07/1990|Guadalajara, Jali...|     180|\n",
      "|  66|    Drew Brees|Football|http://en.wikiped...|  Male|$21,000,000|    $13,500,000|  $7,500,000| Mexico|1990|18/07/1990|Guadalajara, Jali...|     180|\n",
      "|  66|   Eli Manning|Football|http://en.wikiped...|  Male|$21,000,000|    $10,000,000| $11,000,000| Mexico|1990|18/07/1990|Guadalajara, Jali...|     180|\n",
      "|  66|Canelo Alvarez|  Boxing|http://en.wikiped...|  Male|$21,000,000|    $13,500,000|  $7,500,000| Mexico|1990|18/07/1990|Guadalajara, Jali...|     180|\n",
      "|  66|Canelo Alvarez|  Boxing|http://en.wikiped...|  Male|$21,000,000|    $10,000,000| $11,000,000| Mexico|1990|18/07/1990|Guadalajara, Jali...|     180|\n",
      "|  66|    Drew Brees|Football|http://en.wikiped...|  Male|$21,000,000|    $19,500,000|  $1,500,000| Mexico|1990|18/07/1990|Guadalajara, Jali...|     180|\n",
      "+----+--------------+--------+--------------------+------+-----------+---------------+------------+-------+----+----------+--------------------+--------+\n",
      "only showing top 10 rows\n",
      "\n"
     ]
    }
   ],
   "source": [
    "#Ordena los jugadores del más joven al más veterano\n",
    "playersPersInfo.sort(desc(\"Year\")).show(10)\n",
    "# Mostrar el DataFrame ordenado\n"
   ]
  },
  {
   "cell_type": "code",
   "execution_count": 79,
   "id": "edb81a88",
   "metadata": {},
   "outputs": [],
   "source": [
    "#Escribe el resultado en un nuevo CSV delimitado por pipes “|” y nómbralo csv_result_players_info.csv\n",
    "output_path = 'C:/Users/SoporteTI/Entrega/Ejercicios_para_Entregar/csv_result_players_info.csv'\n",
    "playersPersInfo.write.csv(output_path, sep=\"|\", header=True, mode=\"overwrite\")"
   ]
  }
 ],
 "metadata": {
  "kernelspec": {
   "display_name": "Python 3 (ipykernel)",
   "language": "python",
   "name": "python3"
  },
  "language_info": {
   "codemirror_mode": {
    "name": "ipython",
    "version": 3
   },
   "file_extension": ".py",
   "mimetype": "text/x-python",
   "name": "python",
   "nbconvert_exporter": "python",
   "pygments_lexer": "ipython3",
   "version": "3.10.9"
  },
  "varInspector": {
   "cols": {
    "lenName": 16,
    "lenType": 16,
    "lenVar": 40
   },
   "kernels_config": {
    "python": {
     "delete_cmd_postfix": "",
     "delete_cmd_prefix": "del ",
     "library": "var_list.py",
     "varRefreshCmd": "print(var_dic_list())"
    },
    "r": {
     "delete_cmd_postfix": ") ",
     "delete_cmd_prefix": "rm(",
     "library": "var_list.r",
     "varRefreshCmd": "cat(var_dic_list()) "
    }
   },
   "types_to_exclude": [
    "module",
    "function",
    "builtin_function_or_method",
    "instance",
    "_Feature"
   ],
   "window_display": false
  }
 },
 "nbformat": 4,
 "nbformat_minor": 5
}
