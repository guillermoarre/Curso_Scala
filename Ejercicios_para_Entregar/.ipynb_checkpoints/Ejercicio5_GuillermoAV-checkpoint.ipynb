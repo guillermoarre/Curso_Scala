{
 "cells": [
  {
   "cell_type": "markdown",
   "id": "404342f0",
   "metadata": {},
   "source": [
    "# EJERCICIO 5 - Arredondo Vazquez Guillermo\n",
    "Inicializa una sesión de spark en consola y coloca en una variable llamada playersPersInfo la\n",
    "información del archivo t_players_info.csv, t_players_salary.csv, t_players_pers_info.csv\n",
    "considerando la realización de un left join; usa como llave primaria el campo Rank y muestra el\n",
    "resultado en pantalla.\n",
    "- Muestra el tipo de dato de cada columna.\n",
    "- Filtra solo por los jugadores que no viven en los Estados Unidos\n",
    "- Ordena los jugadores del más joven al más veterano\n",
    "- Escribe el resultado en un nuevo CSV delimitado por pipes “|” y nómbralo\n",
    "csv_result_players_info.csv"
   ]
  },
  {
   "cell_type": "code",
   "execution_count": null,
   "id": "f33e2874",
   "metadata": {},
   "outputs": [],
   "source": []
  }
 ],
 "metadata": {
  "kernelspec": {
   "display_name": "Python 3 (ipykernel)",
   "language": "python",
   "name": "python3"
  },
  "language_info": {
   "codemirror_mode": {
    "name": "ipython",
    "version": 3
   },
   "file_extension": ".py",
   "mimetype": "text/x-python",
   "name": "python",
   "nbconvert_exporter": "python",
   "pygments_lexer": "ipython3",
   "version": "3.10.9"
  },
  "varInspector": {
   "cols": {
    "lenName": 16,
    "lenType": 16,
    "lenVar": 40
   },
   "kernels_config": {
    "python": {
     "delete_cmd_postfix": "",
     "delete_cmd_prefix": "del ",
     "library": "var_list.py",
     "varRefreshCmd": "print(var_dic_list())"
    },
    "r": {
     "delete_cmd_postfix": ") ",
     "delete_cmd_prefix": "rm(",
     "library": "var_list.r",
     "varRefreshCmd": "cat(var_dic_list()) "
    }
   },
   "types_to_exclude": [
    "module",
    "function",
    "builtin_function_or_method",
    "instance",
    "_Feature"
   ],
   "window_display": false
  }
 },
 "nbformat": 4,
 "nbformat_minor": 5
}
