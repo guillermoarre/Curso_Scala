{
 "cells": [
  {
   "cell_type": "markdown",
   "id": "783631ac",
   "metadata": {},
   "source": [
    "# EJERCICIO 2 - Arredondo Vazquez Guillermo\n",
    "- Genera un RDD con la siguiente lista [('Alan',10),('Beto',13),('Carlos',20),('Daniel',25),\n",
    "('Daniel',15),('Marlen',13),('Pedro',20),('Daniel',10), ('Pablo',10),('Pablo',13),\n",
    "('Cassy',20),('Diana',25)]\n",
    "- Obtén la suma de las edades agrupadas por el key\n",
    "- Ordena los RDDs con base al resultado\n",
    "- Cuenta cuantas veces aparece cada valor\n",
    "- Cuenta cuantas veces aparece cada key "
   ]
  },
  {
   "cell_type": "code",
   "execution_count": 1,
   "id": "35a7519c",
   "metadata": {},
   "outputs": [],
   "source": [
    "import findspark\n",
    "findspark.init()\n",
    "import pandas as pd\n",
    "import pyspark\n",
    "from pyspark.sql import SparkSession"
   ]
  },
  {
   "cell_type": "code",
   "execution_count": 2,
   "id": "6d6ac44b",
   "metadata": {},
   "outputs": [],
   "source": [
    "spark = SparkSession.builder.getOrCreate()\n",
    "sc = spark.sparkContext"
   ]
  },
  {
   "cell_type": "code",
   "execution_count": 10,
   "id": "a33ecdde",
   "metadata": {},
   "outputs": [],
   "source": [
    "lista =  [('Alan',10),('Beto',13),('Carlos',20),('Daniel',25), ('Daniel',15),\n",
    "          ('Marlen',13),('Pedro',20),('Daniel',10), ('Pablo',10),('Pablo',13),\n",
    "          ('Cassy',20),('Diana',25)]\n",
    "newRDD = sc.parallelize(lista)"
   ]
  },
  {
   "cell_type": "code",
   "execution_count": 12,
   "id": "eed1a45b",
   "metadata": {},
   "outputs": [
    {
     "name": "stdout",
     "output_type": "stream",
     "text": [
      "('Carlos', 20)\n",
      "('Beto', 13)\n",
      "('Pablo', 23)\n",
      "('Diana', 25)\n",
      "('Marlen', 13)\n",
      "('Pedro', 20)\n",
      "('Alan', 10)\n",
      "('Daniel', 50)\n",
      "('Cassy', 20)\n"
     ]
    }
   ],
   "source": [
    "#Obtén la suma de las edades agrupadas por el key\n",
    "keySum = newRDD.reduceByKey(lambda x,y: x+y)\n",
    "var = keySum.collect()\n",
    "print(*var,sep='\\n')"
   ]
  },
  {
   "cell_type": "code",
   "execution_count": null,
   "id": "1382d77b",
   "metadata": {},
   "outputs": [],
   "source": []
  },
  {
   "cell_type": "code",
   "execution_count": null,
   "id": "a4d75e05",
   "metadata": {},
   "outputs": [],
   "source": [
    "#Ordena los RDDs con base al resultado\n",
    "orderResult = newRDD.sortBy(lambda x : x[1])\n",
    "var = orderResult.collect()\n",
    "print(*var)"
   ]
  },
  {
   "cell_type": "code",
   "execution_count": null,
   "id": "11e42f96",
   "metadata": {},
   "outputs": [],
   "source": []
  }
 ],
 "metadata": {
  "kernelspec": {
   "display_name": "Python 3 (ipykernel)",
   "language": "python",
   "name": "python3"
  },
  "language_info": {
   "codemirror_mode": {
    "name": "ipython",
    "version": 3
   },
   "file_extension": ".py",
   "mimetype": "text/x-python",
   "name": "python",
   "nbconvert_exporter": "python",
   "pygments_lexer": "ipython3",
   "version": "3.10.9"
  },
  "varInspector": {
   "cols": {
    "lenName": 16,
    "lenType": 16,
    "lenVar": 40
   },
   "kernels_config": {
    "python": {
     "delete_cmd_postfix": "",
     "delete_cmd_prefix": "del ",
     "library": "var_list.py",
     "varRefreshCmd": "print(var_dic_list())"
    },
    "r": {
     "delete_cmd_postfix": ") ",
     "delete_cmd_prefix": "rm(",
     "library": "var_list.r",
     "varRefreshCmd": "cat(var_dic_list()) "
    }
   },
   "types_to_exclude": [
    "module",
    "function",
    "builtin_function_or_method",
    "instance",
    "_Feature"
   ],
   "window_display": false
  }
 },
 "nbformat": 4,
 "nbformat_minor": 5
}
