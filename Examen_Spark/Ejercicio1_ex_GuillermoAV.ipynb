{
 "cells": [
  {
   "cell_type": "markdown",
   "id": "a95cc92b",
   "metadata": {},
   "source": [
    "# EJERCICIO 1 - GUILLERMO ARREDONDO VAZQUEZ\n",
    "1. Crea un rdd llamado nameRDD a partir de la siguiente lista de nombres: o Namelist =  [\"Hugo\",\"Erick\",\"Biel\",\"Antonio\",\"Manuel\",\"Francisco\",\n",
    "\"Eduardo\",\"Daniel\",\"Juan\",\"Lucía\",\"María\",\"Martina\",\"Sofía\",\"Emma\",\"Julia\",\n",
    "\"Daniela\",\"Carla\",\"Alma\",\"Olivia\",\"Vega\",\"Lola\",\"Valentina\"]"
   ]
  },
  {
   "cell_type": "code",
   "execution_count": 2,
   "id": "723c328a",
   "metadata": {},
   "outputs": [],
   "source": [
    "import findspark\n",
    "findspark.init()\n",
    "import pandas as pd\n",
    "import pyspark\n",
    "from pyspark.sql import SparkSession\n",
    "\n",
    "spark = SparkSession.builder.getOrCreate()\n",
    "sc = spark.sparkContext"
   ]
  },
  {
   "cell_type": "code",
   "execution_count": 4,
   "id": "529633f4",
   "metadata": {},
   "outputs": [
    {
     "data": {
      "text/plain": [
       "['Hugo',\n",
       " 'Erick',\n",
       " 'Biel',\n",
       " 'Antonio',\n",
       " 'Manuel',\n",
       " 'Francisco',\n",
       " 'Eduardo',\n",
       " 'Daniel',\n",
       " 'Juan',\n",
       " 'Lucía',\n",
       " 'María',\n",
       " 'Martina',\n",
       " 'Sofía',\n",
       " 'Emma',\n",
       " 'Julia',\n",
       " 'Daniela',\n",
       " 'Carla',\n",
       " 'Alma',\n",
       " 'Olivia',\n",
       " 'Vega',\n",
       " 'Lola',\n",
       " 'Valentina']"
      ]
     },
     "execution_count": 4,
     "metadata": {},
     "output_type": "execute_result"
    }
   ],
   "source": [
    "Namelist =  [\"Hugo\",\"Erick\",\"Biel\",\"Antonio\",\"Manuel\",\"Francisco\",\n",
    "          \"Eduardo\",\"Daniel\",\"Juan\",\"Lucía\",\"María\",\"Martina\",\"Sofía\",\n",
    "          \"Emma\",\"Julia\", \"Daniela\",\"Carla\",\"Alma\",\"Olivia\",\"Vega\",\"Lola\",\"Valentina\"]\n",
    "nameRDD = sc.parallelize(Namelist)\n",
    "nameRDD.collect()"
   ]
  },
  {
   "cell_type": "markdown",
   "id": "3bcb137a",
   "metadata": {},
   "source": [
    "2. Crea un rdd llamado anotherRDD a partir de nameRDD cuya salida sea: Nombre+ \"2nd\" -> [\"Hugo2nd\",\"Erick2nd\",\"Biel2nd\"....\"Valentina2nd\"]"
   ]
  },
  {
   "cell_type": "code",
   "execution_count": 13,
   "id": "c4e55176",
   "metadata": {},
   "outputs": [
    {
     "name": "stdout",
     "output_type": "stream",
     "text": [
      "['Hugo2nd', 'Erick2nd', 'Biel2nd', 'Antonio2nd', 'Manuel2nd', 'Francisco2nd', 'Eduardo2nd', 'Daniel2nd', 'Juan2nd', 'Lucía2nd', 'María2nd', 'Martina2nd', 'Sofía2nd', 'Emma2nd', 'Julia2nd', 'Daniela2nd', 'Carla2nd', 'Alma2nd', 'Olivia2nd', 'Vega2nd', 'Lola2nd', 'Valentina2nd']\n"
     ]
    }
   ],
   "source": [
    "anotherRDD = nameRDD.map(lambda x: x+\"2nd\")\n",
    "var = anotherRDD.collect()\n",
    "print(var)"
   ]
  },
  {
   "cell_type": "markdown",
   "id": "e6a7fb16",
   "metadata": {},
   "source": [
    "3. Crea un pair rdd llamado pairRDD a partir de nameRDD usando un map cuya salida sea: (Nombre, 20) -> [(\"Hugo\",20),(\"Erick\",20),(\"Biel\",20)....(\"Valentina\",20)]"
   ]
  },
  {
   "cell_type": "code",
   "execution_count": 11,
   "id": "8d5e9092",
   "metadata": {},
   "outputs": [
    {
     "name": "stdout",
     "output_type": "stream",
     "text": [
      "[('Hugo', 20), ('Erick', 20), ('Biel', 20), ('Antonio', 20), ('Manuel', 20), ('Francisco', 20), ('Eduardo', 20), ('Daniel', 20), ('Juan', 20), ('Lucía', 20), ('María', 20), ('Martina', 20), ('Sofía', 20), ('Emma', 20), ('Julia', 20), ('Daniela', 20), ('Carla', 20), ('Alma', 20), ('Olivia', 20), ('Vega', 20), ('Lola', 20), ('Valentina', 20)]\n"
     ]
    }
   ],
   "source": [
    "pairRDD = nameRDD.map(lambda x: (x,20))\n",
    "var = pairRDD.collect()\n",
    "print(var)\n",
    "#for name, num in var:\n",
    "#    print(name,num)"
   ]
  }
 ],
 "metadata": {
  "kernelspec": {
   "display_name": "Python 3 (ipykernel)",
   "language": "python",
   "name": "python3"
  },
  "language_info": {
   "codemirror_mode": {
    "name": "ipython",
    "version": 3
   },
   "file_extension": ".py",
   "mimetype": "text/x-python",
   "name": "python",
   "nbconvert_exporter": "python",
   "pygments_lexer": "ipython3",
   "version": "3.10.9"
  },
  "varInspector": {
   "cols": {
    "lenName": 16,
    "lenType": 16,
    "lenVar": 40
   },
   "kernels_config": {
    "python": {
     "delete_cmd_postfix": "",
     "delete_cmd_prefix": "del ",
     "library": "var_list.py",
     "varRefreshCmd": "print(var_dic_list())"
    },
    "r": {
     "delete_cmd_postfix": ") ",
     "delete_cmd_prefix": "rm(",
     "library": "var_list.r",
     "varRefreshCmd": "cat(var_dic_list()) "
    }
   },
   "types_to_exclude": [
    "module",
    "function",
    "builtin_function_or_method",
    "instance",
    "_Feature"
   ],
   "window_display": false
  }
 },
 "nbformat": 4,
 "nbformat_minor": 5
}
