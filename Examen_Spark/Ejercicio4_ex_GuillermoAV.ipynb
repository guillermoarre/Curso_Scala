{
 "cells": [
  {
   "cell_type": "markdown",
   "id": "4e3ab1e8",
   "metadata": {},
   "source": [
    "# EJERCICIO 4 - GUILLERMO ARREDONDO VAZQUEZ\n",
    "### Dada la siguiente lista, crea un RDD y realiza lo siguiente:\n",
    "- Namelist = [(\"Hugo\",10),(\"Erick\",20),(\"Biel\",30),(\"Antonio\",15),(\"Manuel\",25),(\"Francisco\",15),\n",
    "(\"Hugo\",20),(\"Manuel\",30),(\"Erick\",20),(\"Hugo\",10),(\"Francisco\",30),(\"Erick\",20),(\"Sofía\",20),\n",
    "(\"Biel\",30),(\"Antonio\",15),(\"Biel\",10),(\"Sofía\",20),(\"Erick\",15),(\"Antonio\",20),(\"Francisco\",20)\n",
    ",(\"Manuel\",20),(\"Hugo\",30)]\n",
    "- Calcula la suma de las edades de acuerdo a cada nombre usando groupByKey / reducebykey /foldbykey / combinebykey\n",
    "- Calcula el promedio de edad de cada nombre"
   ]
  },
  {
   "cell_type": "code",
   "execution_count": 2,
   "id": "a3a1bc4e",
   "metadata": {},
   "outputs": [],
   "source": [
    "import findspark\n",
    "findspark.init()\n",
    "import pandas as pd\n",
    "import pyspark\n",
    "from pyspark.sql import SparkSession\n",
    "\n",
    "spark = SparkSession.builder.getOrCreate()\n",
    "sc = spark.sparkContext"
   ]
  },
  {
   "cell_type": "code",
   "execution_count": 5,
   "id": "2edf5428",
   "metadata": {},
   "outputs": [
    {
     "name": "stdout",
     "output_type": "stream",
     "text": [
      "[('Hugo', 10), ('Erick', 20), ('Biel', 30), ('Antonio', 15), ('Manuel', 25), ('Francisco', 15), ('Hugo', 20), ('Manuel', 30), ('Erick', 20), ('Hugo', 10), ('Francisco', 30), ('Erick', 20), ('Sofía', 20), ('Biel', 30), ('Antonio', 15), ('Biel', 10), ('Sofía', 20), ('Erick', 15), ('Antonio', 20), ('Francisco', 20), ('Manuel', 20), ('Hugo', 30)]\n"
     ]
    }
   ],
   "source": [
    "Namelist = [(\"Hugo\",10),(\"Erick\",20),(\"Biel\",30),(\"Antonio\",15),\n",
    "            (\"Manuel\",25),(\"Francisco\",15), (\"Hugo\",20),(\"Manuel\",30),\n",
    "            (\"Erick\",20),(\"Hugo\",10),(\"Francisco\",30),(\"Erick\",20),(\"Sofía\",20), \n",
    "            (\"Biel\",30),(\"Antonio\",15),(\"Biel\",10),(\"Sofía\",20),(\"Erick\",15),(\"Antonio\",20),\n",
    "            (\"Francisco\",20) ,(\"Manuel\",20),(\"Hugo\",30)]\n",
    "RDD = sc.parallelize(Namelist)\n",
    "var = RDD.collect()\n",
    "print(var)"
   ]
  },
  {
   "cell_type": "code",
   "execution_count": 11,
   "id": "7827e0ff",
   "metadata": {},
   "outputs": [
    {
     "name": "stdout",
     "output_type": "stream",
     "text": [
      "[('Sofía', 40), ('Biel', 70), ('Manuel', 75), ('Hugo', 70), ('Erick', 75), ('Antonio', 50), ('Francisco', 65)]\n"
     ]
    }
   ],
   "source": [
    "#Calcula la suma de las edades de acuerdo a cada nombre usando groupByKey / reducebykey /foldbykey / combinebykey\n",
    "grupoRDD = RDD.groupByKey()\n",
    "#grupoRDD.collect()\n",
    "sumaRDD = grupoRDD.map(lambda x: (x[0], sum(x[1])))\n",
    "print(sumaRDD.collect())"
   ]
  },
  {
   "cell_type": "code",
   "execution_count": 14,
   "id": "80c72c31",
   "metadata": {},
   "outputs": [
    {
     "name": "stdout",
     "output_type": "stream",
     "text": [
      "[('Sofía', 20.0), ('Biel', 23.333333333333332), ('Manuel', 25.0), ('Hugo', 17.5), ('Erick', 18.75), ('Antonio', 16.666666666666668), ('Francisco', 21.666666666666668)]\n"
     ]
    }
   ],
   "source": [
    "#Calcula el promedio de edad de cada nombre\n",
    "grupoRDD = RDD.groupByKey()\n",
    "avgRDD = grupoRDD.map(lambda x: (x[0], sum(x[1])/len(x[1])))\n",
    "print(avgRDD.collect())"
   ]
  }
 ],
 "metadata": {
  "kernelspec": {
   "display_name": "Python 3 (ipykernel)",
   "language": "python",
   "name": "python3"
  },
  "language_info": {
   "codemirror_mode": {
    "name": "ipython",
    "version": 3
   },
   "file_extension": ".py",
   "mimetype": "text/x-python",
   "name": "python",
   "nbconvert_exporter": "python",
   "pygments_lexer": "ipython3",
   "version": "3.10.9"
  },
  "varInspector": {
   "cols": {
    "lenName": 16,
    "lenType": 16,
    "lenVar": 40
   },
   "kernels_config": {
    "python": {
     "delete_cmd_postfix": "",
     "delete_cmd_prefix": "del ",
     "library": "var_list.py",
     "varRefreshCmd": "print(var_dic_list())"
    },
    "r": {
     "delete_cmd_postfix": ") ",
     "delete_cmd_prefix": "rm(",
     "library": "var_list.r",
     "varRefreshCmd": "cat(var_dic_list()) "
    }
   },
   "types_to_exclude": [
    "module",
    "function",
    "builtin_function_or_method",
    "instance",
    "_Feature"
   ],
   "window_display": false
  }
 },
 "nbformat": 4,
 "nbformat_minor": 5
}
