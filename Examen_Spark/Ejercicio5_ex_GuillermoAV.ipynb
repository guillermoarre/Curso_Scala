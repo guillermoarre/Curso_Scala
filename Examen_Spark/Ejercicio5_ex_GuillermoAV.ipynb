{
 "cells": [
  {
   "cell_type": "markdown",
   "id": "9b06cec2",
   "metadata": {},
   "source": [
    "# EJERCICIO 5 - GUILLERMO ARREDONDO VAZQUEZ\n",
    "### Dada la siguiente lista, crea un RDD y realiza lo siguiente:\n",
    "#### Inicializa una sesión de spark en consola y coloca en una variable la información de cada archivo csv que se encuentran en el siguiente link\n",
    "- Realiza una unión para unir todos los pokemon de cada generación\n",
    "- Devuelve un conteo por generación y muestra el resultado en pantalla\n",
    "- Devuelve un conteo por Type_1 y muestra el resultado en pantalla\n",
    "- Devuelve un conteo por pokemon legendarios y muestra el resultado en pantalla\n",
    "- Devuelve el pokemon con más puntos de:\n",
    "- Vida (hp), Ataque (attack), Defensa (defense)\n",
    "- Devuelve el pokemon con menos puntos de:\n",
    "- Ataque especial (sp_attack), Defensa especial (sp_defense), Velocidad (speed)\n",
    "- Realiza un Join de la información de los pokemon y sus ventajas\n",
    "- Del resultado final, devuelve toda la información del pokemon, pero solo la información de las primeras 2 ventajas, las primeras 2 desventajas y el campo “sin_efecto”\n",
    "- Escribe el resultado en un archivo parquet pkmn_result__info.parquet"
   ]
  },
  {
   "cell_type": "code",
   "execution_count": 1,
   "id": "0d8f3aa4",
   "metadata": {},
   "outputs": [],
   "source": [
    "import findspark\n",
    "findspark.init()\n",
    "import pandas as pd\n",
    "import pyspark\n",
    "\n",
    "from pyspark.sql import SparkSession\n",
    "from pyspark.sql.functions import col, to_date\n",
    "#Libreria para utilizar el count\n",
    "from pyspark.sql.functions import *"
   ]
  },
  {
   "cell_type": "code",
   "execution_count": 2,
   "id": "fdadb130",
   "metadata": {},
   "outputs": [],
   "source": [
    "spark = SparkSession.builder.getOrCreate()"
   ]
  },
  {
   "cell_type": "code",
   "execution_count": 16,
   "id": "97bd03cd",
   "metadata": {},
   "outputs": [],
   "source": [
    "#dfInfo =spark.read.csv(\"data/t_players_info.csv\", sep=\",\", header=True, inferSchema=True)\n",
    "pk1 = spark.read.csv(\"data/pkmn_gen_1.csv\", sep=\",\",inferSchema=True,header=True)\n",
    "pk2 = spark.read.csv(\"data/pkmn_gen_2.csv\", sep=\",\",inferSchema=True,header=True)\n",
    "pk3 = spark.read.csv(\"data/pkmn_gen_3.csv\", sep=\",\",inferSchema=True,header=True)\n",
    "pk4 = spark.read.csv(\"data/pkmn_gen_4.csv\", sep=\",\",inferSchema=True,header=True)\n",
    "pk5 = spark.read.csv(\"data/pkmn_gen_5.csv\", sep=\",\",inferSchema=True,header=True)\n",
    "pk6 = spark.read.csv(\"data/pkmn_gen_6.csv\", sep=\",\",inferSchema=True,header=True)\n",
    "ventajas = spark.read.csv(\"data/ventajas.csv\", sep=\",\",inferSchema=True,header=True)"
   ]
  },
  {
   "cell_type": "code",
   "execution_count": 17,
   "id": "966f7aa6",
   "metadata": {},
   "outputs": [
    {
     "name": "stdout",
     "output_type": "stream",
     "text": [
      "+---+--------------------+-------+------+------+------+-------+------+------+------+---------+\n",
      "| id|                name| type_1|type_2|    hp|attack|defense|sp_atk|sp_def| speed|legendary|\n",
      "+---+--------------------+-------+------+------+------+-------+------+------+------+---------+\n",
      "|721|           Volcanion|   Fire| Water| 80,00|110,00| 120,00|130,00| 90,00| 70,00|     true|\n",
      "|720|  HoopaHoopa Unbound|Psychic|  Dark| 80,00|160,00|  60,00|170,00|130,00| 80,00|     true|\n",
      "|720| HoopaHoopa Confined|Psychic| Ghost| 80,00|110,00|  60,00|150,00|130,00| 70,00|     true|\n",
      "|719|             Diancie|   Rock| Fairy| 50,00|100,00| 150,00|100,00|150,00| 50,00|     true|\n",
      "|719| DiancieMega Diancie|   Rock| Fairy| 50,00|160,00| 110,00|160,00|110,00|110,00|     true|\n",
      "|718|    Zygarde50% Forme| Dragon|Ground|108,00|100,00| 121,00| 81,00| 95,00| 95,00|     true|\n",
      "|717|             Yveltal|   Dark|Flying|126,00|131,00|  95,00|131,00| 98,00| 99,00|     true|\n",
      "|716|             Xerneas|  Fairy|  null|126,00|131,00|  95,00|131,00| 98,00| 99,00|     true|\n",
      "|715|             Noivern| Flying|Dragon| 85,00| 70,00|  80,00| 97,00| 80,00|123,00|    false|\n",
      "|714|              Noibat| Flying|Dragon| 40,00| 30,00|  35,00| 45,00| 40,00| 55,00|    false|\n",
      "|713|             Avalugg|    Ice|  null| 95,00|117,00| 184,00| 44,00| 46,00| 28,00|    false|\n",
      "|712|            Bergmite|    Ice|  null| 55,00| 69,00|  85,00| 32,00| 35,00| 28,00|    false|\n",
      "|711|GourgeistAverage ...|  Ghost| Grass| 65,00| 90,00| 122,00| 58,00| 75,00| 84,00|    false|\n",
      "|711| GourgeistSmall Size|  Ghost| Grass| 55,00| 85,00| 122,00| 58,00| 75,00| 99,00|    false|\n",
      "|711| GourgeistLarge Size|  Ghost| Grass| 75,00| 95,00| 122,00| 58,00| 75,00| 69,00|    false|\n",
      "|711| GourgeistSuper Size|  Ghost| Grass| 85,00|100,00| 122,00| 58,00| 75,00| 54,00|    false|\n",
      "|710| PumpkabooSmall Size|  Ghost| Grass| 44,00| 66,00|  70,00| 44,00| 55,00| 56,00|    false|\n",
      "|710| PumpkabooSuper Size|  Ghost| Grass| 59,00| 66,00|  70,00| 44,00| 55,00| 41,00|    false|\n",
      "|710|PumpkabooAverage ...|  Ghost| Grass| 49,00| 66,00|  70,00| 44,00| 55,00| 51,00|    false|\n",
      "|710| PumpkabooLarge Size|  Ghost| Grass| 54,00| 66,00|  70,00| 44,00| 55,00| 46,00|    false|\n",
      "+---+--------------------+-------+------+------+------+-------+------+------+------+---------+\n",
      "only showing top 20 rows\n",
      "\n"
     ]
    }
   ],
   "source": [
    "#Realiza una unión para unir todos los pokemon de cada generación\n",
    "#pk2.show()\n",
    "allpk = pk1.union(pk2).union(pk3).union(pk4).union(pk5).union(pk6)\n",
    "allpk.sort(desc(\"id\")).show()"
   ]
  },
  {
   "cell_type": "code",
   "execution_count": 5,
   "id": "03d8a04f",
   "metadata": {},
   "outputs": [
    {
     "name": "stdout",
     "output_type": "stream",
     "text": [
      "La generación 1 tiene 166 pokemones\n",
      "La generación 2 tiene 106 pokemones\n",
      "La generación 3 tiene 160 pokemones\n",
      "La generación 4 tiene 121 pokemones\n",
      "La generación 5 tiene 165 pokemones\n",
      "La generación 6 tiene 82 pokemones\n",
      "En total son 800 pokemones\n"
     ]
    }
   ],
   "source": [
    "#Devuelve un conteo por generación y muestra el resultado en pantalla\n",
    "gener = [pk1,pk2,pk3,pk4,pk5,pk6]\n",
    "contador = 1\n",
    "for i in gener:\n",
    "    val = i\n",
    "    print(\"La generación\",contador,\"tiene\",val.count(),\"pokemones\")\n",
    "    contador = contador+1\n",
    "print(\"En total son\",allpk.count(),\"pokemones\")"
   ]
  },
  {
   "cell_type": "code",
   "execution_count": 6,
   "id": "0e64b314",
   "metadata": {},
   "outputs": [
    {
     "name": "stdout",
     "output_type": "stream",
     "text": [
      "+--------+------------+\n",
      "|  Type_1|Number/type1|\n",
      "+--------+------------+\n",
      "|   Water|         112|\n",
      "|  Poison|          28|\n",
      "|    Rock|          44|\n",
      "|     Ice|          24|\n",
      "|   Ghost|          32|\n",
      "| Psychic|          57|\n",
      "|  Dragon|          32|\n",
      "|     Bug|          69|\n",
      "|Electric|          44|\n",
      "|    Fire|          52|\n",
      "|  Ground|          32|\n",
      "|Fighting|          27|\n",
      "|   Grass|          70|\n",
      "|  Normal|         100|\n",
      "|   Steel|          27|\n",
      "|   Fairy|          15|\n",
      "|    Dark|          31|\n",
      "|  Flying|           4|\n",
      "+--------+------------+\n",
      "\n"
     ]
    }
   ],
   "source": [
    "#Devuelve un conteo por Type_1 y muestra el resultado en pantalla\n",
    "allpk.groupBy(\"Type_1\").agg(count(\"*\").alias(\"Number/type1\")).show()"
   ]
  },
  {
   "cell_type": "code",
   "execution_count": 7,
   "id": "00cc37d3",
   "metadata": {},
   "outputs": [
    {
     "name": "stdout",
     "output_type": "stream",
     "text": [
      "Cantidad de pokemon legendarios = 65\n"
     ]
    }
   ],
   "source": [
    "#Devuelve un conteo por pokemon legendarios y muestra el resultado en pantalla\n",
    "legendary = allpk.filter(allpk.legendary == True)\n",
    "print(\"Cantidad de pokemon legendarios =\",legendary.count())"
   ]
  },
  {
   "cell_type": "code",
   "execution_count": 8,
   "id": "31614174",
   "metadata": {},
   "outputs": [
    {
     "name": "stdout",
     "output_type": "stream",
     "text": [
      "El pokemon con mas puntos es AggronMega Aggron con 440.0 puntos\n"
     ]
    }
   ],
   "source": [
    "#Devuelve el pokemon con más puntos de:\n",
    "#Vida (hp), Ataque (attack), Defensa (defense)\n",
    "#LO PRIMERO ES ACTUALIZAR LOS DATOS DE LA TABLA, QUITAR LAS COMAS Y CONVERTIR LOS DATOS A INT\n",
    "new = allpk.withColumn(\"hp\", regexp_replace(col(\"hp\"), \",\", \"\").cast(\"integer\"))\n",
    "new = new.withColumn(\"hp\", col(\"hp\") / 100)\n",
    "new = new.withColumn(\"attack\", regexp_replace(col(\"attack\"), \",\", \"\").cast(\"integer\"))\n",
    "new = new.withColumn(\"attack\", col(\"attack\") / 100)\n",
    "new = new.withColumn(\"defense\", regexp_replace(col(\"defense\"), \",\", \"\").cast(\"integer\"))\n",
    "new = new.withColumn(\"defense\", col(\"defense\") / 100)\n",
    "#new.dtypes\n",
    "strong = new.orderBy(new[\"hp\"]+new[\"attack\"]+new[\"defense\"],ascending=False).first()\n",
    "print(\"El pokemon con mas puntos es\",strong[\"name\"],\"con\",strong[\"hp\"]+strong[\"attack\"]+strong[\"defense\"],\"puntos\")\n",
    "#new.orderBy(new[\"hp\"]+new[\"attack\"]+new[\"defense\"],ascending=False).show()\n"
   ]
  },
  {
   "cell_type": "code",
   "execution_count": 9,
   "id": "cc917a6e",
   "metadata": {},
   "outputs": [
    {
     "name": "stdout",
     "output_type": "stream",
     "text": [
      "El pokemon con menos puntos es Silcoon\n"
     ]
    }
   ],
   "source": [
    "#Devuelve el pokemon con menos puntos de:\n",
    "#Ataque especial (sp_attack), Defensa especial (sp_defense), Velocidad (speed)\n",
    "#LO PRIMERO ES ACTUALIZAR LOS DATOS DE LA TABLA, QUITAR LAS COMAS Y CONVERTIR LOS DATOS A INT\n",
    "new = new.withColumn(\"sp_atk\", regexp_replace(col(\"sp_atk\"), \",\", \"\").cast(\"integer\"))\n",
    "new = new.withColumn(\"sp_atk\", col(\"sp_atk\") / 100)\n",
    "new = new.withColumn(\"sp_def\", regexp_replace(col(\"sp_def\"), \",\", \"\").cast(\"integer\"))\n",
    "new = new.withColumn(\"sp_def\", col(\"sp_def\") / 100)\n",
    "new = new.withColumn(\"speed\", regexp_replace(col(\"speed\"), \",\", \"\").cast(\"integer\"))\n",
    "new = new.withColumn(\"speed\", col(\"speed\") / 100)\n",
    "#new.dtypes\n",
    "weakest = new.orderBy(new[\"sp_atk\"]+new[\"sp_def\"]+new[\"speed\"], ascending=True).first()\n",
    "print(\"El pokemon con menos puntos es\",weakest[\"name\"])\n",
    "#new.orderBy(new[\"sp_atk\"]+new[\"sp_def\"]+new[\"speed\"], ascending=True).show()"
   ]
  },
  {
   "cell_type": "code",
   "execution_count": 26,
   "id": "9104ae89",
   "metadata": {},
   "outputs": [
    {
     "name": "stdout",
     "output_type": "stream",
     "text": [
      "+---+--------------------+------+------+-----+------+-------+------+------+------+---------+----+---------+---------+---------+---------+---------+------------+------------+------------+------------+------------+----------+\n",
      "| id|                name|type_1|type_2|   hp|attack|defense|sp_atk|sp_def| speed|legendary|tipo|ventaja_1|ventaja_2|ventaja_3|ventaja_4|ventaja_5|desventaja_1|desventaja_2|desventaja_3|desventaja_4|desventaja_5|sin_efecto|\n",
      "+---+--------------------+------+------+-----+------+-------+------+------+------+---------+----+---------+---------+---------+---------+---------+------------+------------+------------+------------+------------+----------+\n",
      "|  4|          Charmander|  Fire|  null|39,00| 52,00|  43,00| 60,00| 50,00| 65,00|    false|Fire|   Planta|    Hielo|    Bicho|    Acero|  Ninguna|       Fuego|        Agua|        Roca|      Dragón|        null|   Ninguno|\n",
      "|  5|          Charmeleon|  Fire|  null|58,00| 64,00|  58,00| 80,00| 65,00| 80,00|    false|Fire|   Planta|    Hielo|    Bicho|    Acero|  Ninguna|       Fuego|        Agua|        Roca|      Dragón|        null|   Ninguno|\n",
      "|  6|           Charizard|  Fire|Flying|78,00| 84,00|  78,00|109,00| 85,00|100,00|    false|Fire|   Planta|    Hielo|    Bicho|    Acero|  Ninguna|       Fuego|        Agua|        Roca|      Dragón|        null|   Ninguno|\n",
      "|  6|CharizardMega Cha...|  Fire|Dragon|78,00|130,00| 111,00|130,00| 85,00|100,00|    false|Fire|   Planta|    Hielo|    Bicho|    Acero|  Ninguna|       Fuego|        Agua|        Roca|      Dragón|        null|   Ninguno|\n",
      "|  6|CharizardMega Cha...|  Fire|Flying|78,00|104,00|  78,00|159,00|115,00|100,00|    false|Fire|   Planta|    Hielo|    Bicho|    Acero|  Ninguna|       Fuego|        Agua|        Roca|      Dragón|        null|   Ninguno|\n",
      "+---+--------------------+------+------+-----+------+-------+------+------+------+---------+----+---------+---------+---------+---------+---------+------------+------------+------------+------------+------------+----------+\n",
      "only showing top 5 rows\n",
      "\n"
     ]
    }
   ],
   "source": [
    "#Realiza un Join de la información de los pokemon y sus ventajas\n",
    "allpkNew = allpk.join(ventajas, allpk[\"type_1\"] == ventajas[\"tipo\"])\n",
    "allpkNew.show(5)"
   ]
  },
  {
   "cell_type": "code",
   "execution_count": 27,
   "id": "9746783c",
   "metadata": {},
   "outputs": [
    {
     "name": "stdout",
     "output_type": "stream",
     "text": [
      "+---+--------------------+------+------+-----+------+-------+------+------+------+---------+---------+---------+------------+------------+\n",
      "| id|                name|type_1|type_2|   hp|attack|defense|sp_atk|sp_def| speed|legendary|ventaja_1|ventaja_2|desventaja_1|desventaja_2|\n",
      "+---+--------------------+------+------+-----+------+-------+------+------+------+---------+---------+---------+------------+------------+\n",
      "|  4|          Charmander|  Fire|  null|39,00| 52,00|  43,00| 60,00| 50,00| 65,00|    false|   Planta|    Hielo|       Fuego|        Agua|\n",
      "|  5|          Charmeleon|  Fire|  null|58,00| 64,00|  58,00| 80,00| 65,00| 80,00|    false|   Planta|    Hielo|       Fuego|        Agua|\n",
      "|  6|           Charizard|  Fire|Flying|78,00| 84,00|  78,00|109,00| 85,00|100,00|    false|   Planta|    Hielo|       Fuego|        Agua|\n",
      "|  6|CharizardMega Cha...|  Fire|Dragon|78,00|130,00| 111,00|130,00| 85,00|100,00|    false|   Planta|    Hielo|       Fuego|        Agua|\n",
      "|  6|CharizardMega Cha...|  Fire|Flying|78,00|104,00|  78,00|159,00|115,00|100,00|    false|   Planta|    Hielo|       Fuego|        Agua|\n",
      "+---+--------------------+------+------+-----+------+-------+------+------+------+---------+---------+---------+------------+------------+\n",
      "only showing top 5 rows\n",
      "\n"
     ]
    }
   ],
   "source": [
    "#Del resultado final, devuelve toda la información del pokemon,\n",
    "#pero solo la información de las primeras 2 ventajas, las primeras 2 desventajas y el campo “sin_efecto”\n",
    "allpkS = allpkNew.select(\"id\",\"name\",\"type_1\",\"type_2\",\"hp\",\"attack\",\"defense\",\n",
    "                         \"sp_atk\",\"sp_def\",\"speed\",\"legendary\",\"ventaja_1\",\"ventaja_2\",\"desventaja_1\",\"desventaja_2\")\n",
    "allpkS.show(5)"
   ]
  },
  {
   "cell_type": "code",
   "execution_count": 25,
   "id": "a74ddfa1",
   "metadata": {},
   "outputs": [],
   "source": [
    "#Escribe el resultado en un archivo parquet pkmn_result__info.parquet\n",
    "allpkS.write.parquet(\"C:/Users/SoporteTI/Entrega/Examen_Spark/pkmn_result__info\")"
   ]
  },
  {
   "cell_type": "code",
   "execution_count": null,
   "id": "f82d2e57",
   "metadata": {},
   "outputs": [],
   "source": []
  }
 ],
 "metadata": {
  "kernelspec": {
   "display_name": "Python 3 (ipykernel)",
   "language": "python",
   "name": "python3"
  },
  "language_info": {
   "codemirror_mode": {
    "name": "ipython",
    "version": 3
   },
   "file_extension": ".py",
   "mimetype": "text/x-python",
   "name": "python",
   "nbconvert_exporter": "python",
   "pygments_lexer": "ipython3",
   "version": "3.10.9"
  },
  "varInspector": {
   "cols": {
    "lenName": 16,
    "lenType": 16,
    "lenVar": 40
   },
   "kernels_config": {
    "python": {
     "delete_cmd_postfix": "",
     "delete_cmd_prefix": "del ",
     "library": "var_list.py",
     "varRefreshCmd": "print(var_dic_list())"
    },
    "r": {
     "delete_cmd_postfix": ") ",
     "delete_cmd_prefix": "rm(",
     "library": "var_list.r",
     "varRefreshCmd": "cat(var_dic_list()) "
    }
   },
   "types_to_exclude": [
    "module",
    "function",
    "builtin_function_or_method",
    "instance",
    "_Feature"
   ],
   "window_display": false
  }
 },
 "nbformat": 4,
 "nbformat_minor": 5
}
