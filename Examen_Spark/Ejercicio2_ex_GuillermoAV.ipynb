{
 "cells": [
  {
   "cell_type": "markdown",
   "id": "6138c17c",
   "metadata": {},
   "source": [
    "# EJERCICIO 2 - GUILLERMO ARREDONDO VAZQUEZ\n",
    "1. Crea un rdd llamado nameRDD2 : [['Ana','Bob'],['Karen']], usa map o flatMap para regresar:\n",
    "- ans1: ['Ana', 'Bob', 'plus', 'Karen', 'plus']\n",
    "- ans2: [['Ana', 'Bob', 'plus'], ['Karen', 'plus']]"
   ]
  },
  {
   "cell_type": "code",
   "execution_count": 1,
   "id": "3cd774b7",
   "metadata": {},
   "outputs": [],
   "source": [
    "import findspark\n",
    "findspark.init()\n",
    "import pandas as pd\n",
    "import pyspark\n",
    "from pyspark.sql import SparkSession\n",
    "\n",
    "spark = SparkSession.builder.getOrCreate()\n",
    "sc = spark.sparkContext"
   ]
  },
  {
   "cell_type": "code",
   "execution_count": 9,
   "id": "7b9f5736",
   "metadata": {},
   "outputs": [],
   "source": [
    "lista = [['Ana','Bob'],['Karen']]\n",
    "nameRDD2 = sc.parallelize(lista)\n",
    "aux = nameRDD2.collect()"
   ]
  },
  {
   "cell_type": "code",
   "execution_count": 10,
   "id": "2c62d775",
   "metadata": {},
   "outputs": [
    {
     "data": {
      "text/plain": [
       "['Ana', 'Bob', 'plus', 'Karen', 'plus']"
      ]
     },
     "execution_count": 10,
     "metadata": {},
     "output_type": "execute_result"
    }
   ],
   "source": [
    "#ANS 1\n",
    "nameRDD3 = nameRDD2.flatMap(lambda x: x + ['plus'])\n",
    "nameRDD3.collect()"
   ]
  },
  {
   "cell_type": "code",
   "execution_count": 16,
   "id": "04151322",
   "metadata": {},
   "outputs": [
    {
     "data": {
      "text/plain": [
       "[['Ana', 'Bob', 'plus'], ['Karen', 'plus']]"
      ]
     },
     "execution_count": 16,
     "metadata": {},
     "output_type": "execute_result"
    }
   ],
   "source": [
    "#ANS 2\n",
    "nameRDD3 = nameRDD2.flatMap(lambda x:[x + ['plus']])\n",
    "nameRDD3.collect()"
   ]
  }
 ],
 "metadata": {
  "kernelspec": {
   "display_name": "Python 3 (ipykernel)",
   "language": "python",
   "name": "python3"
  },
  "language_info": {
   "codemirror_mode": {
    "name": "ipython",
    "version": 3
   },
   "file_extension": ".py",
   "mimetype": "text/x-python",
   "name": "python",
   "nbconvert_exporter": "python",
   "pygments_lexer": "ipython3",
   "version": "3.10.9"
  },
  "varInspector": {
   "cols": {
    "lenName": 16,
    "lenType": 16,
    "lenVar": 40
   },
   "kernels_config": {
    "python": {
     "delete_cmd_postfix": "",
     "delete_cmd_prefix": "del ",
     "library": "var_list.py",
     "varRefreshCmd": "print(var_dic_list())"
    },
    "r": {
     "delete_cmd_postfix": ") ",
     "delete_cmd_prefix": "rm(",
     "library": "var_list.r",
     "varRefreshCmd": "cat(var_dic_list()) "
    }
   },
   "types_to_exclude": [
    "module",
    "function",
    "builtin_function_or_method",
    "instance",
    "_Feature"
   ],
   "window_display": false
  }
 },
 "nbformat": 4,
 "nbformat_minor": 5
}
