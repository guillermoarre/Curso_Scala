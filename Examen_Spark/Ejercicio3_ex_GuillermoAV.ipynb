{
 "cells": [
  {
   "cell_type": "markdown",
   "id": "80f7de3c",
   "metadata": {},
   "source": [
    "# EJERCICIO 3 - GUILLERMO ARREDONDO VAZQUEZ\n",
    "#### Dadas las siguientes listas, crea un RDD para cada una y devuelve de los 2 RDDs su:\n",
    "- Union\n",
    "- Intersección\n",
    "- Cartesiano\n",
    "#### Listas:\n",
    "- nameRDD1 = sc.parallelize(['Ana','Bob'])\n",
    "- nameRDD2 = sc.parallelize(['Bob','Caren','Deric'])"
   ]
  },
  {
   "cell_type": "code",
   "execution_count": 2,
   "id": "985a06cf",
   "metadata": {},
   "outputs": [],
   "source": [
    "import findspark\n",
    "findspark.init()\n",
    "import pandas as pd\n",
    "import pyspark\n",
    "from pyspark.sql import SparkSession\n",
    "\n",
    "spark = SparkSession.builder.getOrCreate()\n",
    "sc = spark.sparkContext"
   ]
  },
  {
   "cell_type": "code",
   "execution_count": 5,
   "id": "763e3244",
   "metadata": {},
   "outputs": [],
   "source": [
    "nameRDD1 = sc.parallelize(['Ana','Bob'])\n",
    "nameRDD2 = sc.parallelize(['Bob','Caren','Deric'])"
   ]
  },
  {
   "cell_type": "code",
   "execution_count": 11,
   "id": "8fb76ab0",
   "metadata": {},
   "outputs": [
    {
     "data": {
      "text/plain": [
       "['Ana', 'Bob', 'Bob', 'Caren', 'Deric']"
      ]
     },
     "execution_count": 11,
     "metadata": {},
     "output_type": "execute_result"
    }
   ],
   "source": [
    "#Union\n",
    "nameRDD3 = nameRDD1.union(nameRDD2)\n",
    "nameRDD3.collect()"
   ]
  },
  {
   "cell_type": "code",
   "execution_count": 13,
   "id": "c39b2892",
   "metadata": {},
   "outputs": [
    {
     "data": {
      "text/plain": [
       "['Bob']"
      ]
     },
     "execution_count": 13,
     "metadata": {},
     "output_type": "execute_result"
    }
   ],
   "source": [
    "#Intersection\n",
    "nameRDD3 = nameRDD1.intersection(nameRDD2)\n",
    "nameRDD3.collect()"
   ]
  },
  {
   "cell_type": "code",
   "execution_count": 14,
   "id": "e460ed00",
   "metadata": {},
   "outputs": [
    {
     "data": {
      "text/plain": [
       "[('Ana', 'Bob'),\n",
       " ('Ana', 'Caren'),\n",
       " ('Ana', 'Deric'),\n",
       " ('Bob', 'Bob'),\n",
       " ('Bob', 'Caren'),\n",
       " ('Bob', 'Deric')]"
      ]
     },
     "execution_count": 14,
     "metadata": {},
     "output_type": "execute_result"
    }
   ],
   "source": [
    "nameRDD3 = nameRDD1.cartesian(nameRDD2)\n",
    "nameRDD3.collect()"
   ]
  }
 ],
 "metadata": {
  "kernelspec": {
   "display_name": "Python 3 (ipykernel)",
   "language": "python",
   "name": "python3"
  },
  "language_info": {
   "codemirror_mode": {
    "name": "ipython",
    "version": 3
   },
   "file_extension": ".py",
   "mimetype": "text/x-python",
   "name": "python",
   "nbconvert_exporter": "python",
   "pygments_lexer": "ipython3",
   "version": "3.10.9"
  },
  "varInspector": {
   "cols": {
    "lenName": 16,
    "lenType": 16,
    "lenVar": 40
   },
   "kernels_config": {
    "python": {
     "delete_cmd_postfix": "",
     "delete_cmd_prefix": "del ",
     "library": "var_list.py",
     "varRefreshCmd": "print(var_dic_list())"
    },
    "r": {
     "delete_cmd_postfix": ") ",
     "delete_cmd_prefix": "rm(",
     "library": "var_list.r",
     "varRefreshCmd": "cat(var_dic_list()) "
    }
   },
   "types_to_exclude": [
    "module",
    "function",
    "builtin_function_or_method",
    "instance",
    "_Feature"
   ],
   "window_display": false
  }
 },
 "nbformat": 4,
 "nbformat_minor": 5
}
