{
 "cells": [
  {
   "cell_type": "markdown",
   "id": "9b06cec2",
   "metadata": {},
   "source": [
    "# EJERCICIO 5 - GUILLERMO ARREDONDO VAZQUEZ\n",
    "### Dada la siguiente lista, crea un RDD y realiza lo siguiente:\n",
    "#### Inicializa una sesión de spark en consola y coloca en una variable la información de cada archivo csv que se encuentran en el siguiente link\n",
    "- Realiza una unión para unir todos los pokemon de cada generación\n",
    "- Devuelve un conteo por generación y muestra el resultado en pantalla\n",
    "- Devuelve un conteo por Type_1 y muestra el resultado en pantalla\n",
    "- Devuelve un conteo por pokemon legendarios y muestra el resultado en pantalla\n",
    "- Devuelve el pokemon con más puntos de:\n",
    "- Vida (hp), Ataque (attack), Defensa (defense)\n",
    "- Devuelve el pokemon con menos puntos de:\n",
    "- Ataque especial (sp_attack), Defensa especial (sp_defense), Velocidad (speed)\n",
    "- Realiza un Join de la información de los pokemon y sus ventajas\n",
    "- Del resultado final, devuelve toda la información del pokemon, pero solo la información de las primeras 2 ventajas, las primeras 2 desventajas y el campo “sin_efecto”\n",
    "- Escribe el resultado en un archivo parquet pkmn_result__info.parquet"
   ]
  },
  {
   "cell_type": "code",
   "execution_count": 1,
   "id": "0d8f3aa4",
   "metadata": {},
   "outputs": [],
   "source": [
    "import findspark\n",
    "findspark.init()\n",
    "import pandas as pd\n",
    "import pyspark\n",
    "\n",
    "from pyspark.sql import SparkSession\n",
    "from pyspark.sql.functions import col, to_date\n",
    "#Libreria para utilizar el count\n",
    "from pyspark.sql.functions import *"
   ]
  },
  {
   "cell_type": "code",
   "execution_count": 2,
   "id": "fdadb130",
   "metadata": {},
   "outputs": [],
   "source": [
    "spark = SparkSession.builder.getOrCreate()"
   ]
  },
  {
   "cell_type": "code",
   "execution_count": 27,
   "id": "97bd03cd",
   "metadata": {},
   "outputs": [],
   "source": [
    "#dfInfo =spark.read.csv(\"data/t_players_info.csv\", sep=\",\", header=True, inferSchema=True)\n",
    "pk1 = spark.read.csv(\"data/pkmn_gen_1.csv\", sep=\",\",inferSchema=True,header=True)\n",
    "pk2 = spark.read.csv(\"data/pkmn_gen_2.csv\", sep=\",\",inferSchema=True,header=True)\n",
    "pk3 = spark.read.csv(\"data/pkmn_gen_3.csv\", sep=\",\",inferSchema=True,header=True)\n",
    "pk4 = spark.read.csv(\"data/pkmn_gen_4.csv\", sep=\",\",inferSchema=True,header=True)\n",
    "pk5 = spark.read.csv(\"data/pkmn_gen_5.csv\", sep=\",\",inferSchema=True,header=True)\n",
    "pk6 = spark.read.csv(\"data/pkmn_gen_6.csv\", sep=\",\",inferSchema=True,header=True)\n",
    "ventajas = spark.read.csv(\"data/ventajas.csv\", sep=\",\",inferSchema=True,header=True)"
   ]
  },
  {
   "cell_type": "code",
   "execution_count": 28,
   "id": "966f7aa6",
   "metadata": {},
   "outputs": [
    {
     "name": "stdout",
     "output_type": "stream",
     "text": [
      "+---+-------+------+------+-----+------+-------+------+------+-----+---------+\n",
      "| id|   name|type_1|type_2|   hp|attack|defense|sp_atk|sp_def|speed|legendary|\n",
      "+---+-------+------+------+-----+------+-------+------+------+-----+---------+\n",
      "|650|Chespin| Grass|  null|56,00| 61,00|  65,00| 48,00| 45,00|38,00|    false|\n",
      "+---+-------+------+------+-----+------+-------+------+------+-----+---------+\n",
      "\n"
     ]
    }
   ],
   "source": [
    "#Realiza una unión para unir todos los pokemon de cada generación\n",
    "#pk2.show()\n",
    "allpk = pk1.union(pk2).union(pk3).union(pk4).union(pk5).union(pk6)\n",
    "allpk.filter(allpk[\"id\"] == 650).show()"
   ]
  },
  {
   "cell_type": "code",
   "execution_count": 48,
   "id": "03d8a04f",
   "metadata": {},
   "outputs": [
    {
     "name": "stdout",
     "output_type": "stream",
     "text": [
      "La generación 1 tiene 166 pokemones\n",
      "La generación 2 tiene 106 pokemones\n",
      "La generación 3 tiene 160 pokemones\n",
      "La generación 4 tiene 121 pokemones\n",
      "La generación 5 tiene 165 pokemones\n",
      "La generación 6 tiene 82 pokemones\n",
      "En total son 800 pokemones\n"
     ]
    }
   ],
   "source": [
    "#Devuelve un conteo por generación y muestra el resultado en pantalla\n",
    "gener = [pk1,pk2,pk3,pk4,pk5,pk6]\n",
    "contador = 1\n",
    "for i in gener:\n",
    "    val = i\n",
    "    print(\"La generación\",contador,\"tiene\",val.count(),\"pokemones\")\n",
    "    contador = contador+1\n",
    "print(\"En total son\",allpk.count(),\"pokemones\")"
   ]
  },
  {
   "cell_type": "code",
   "execution_count": 57,
   "id": "0e64b314",
   "metadata": {},
   "outputs": [
    {
     "name": "stdout",
     "output_type": "stream",
     "text": [
      "+--------+------------+\n",
      "|  Type_1|Number/type1|\n",
      "+--------+------------+\n",
      "|   Water|         112|\n",
      "|  Poison|          28|\n",
      "|    Rock|          44|\n",
      "|     Ice|          24|\n",
      "|   Ghost|          32|\n",
      "| Psychic|          57|\n",
      "|  Dragon|          32|\n",
      "|     Bug|          69|\n",
      "|Electric|          44|\n",
      "|    Fire|          52|\n",
      "|  Ground|          32|\n",
      "|Fighting|          27|\n",
      "|   Grass|          70|\n",
      "|  Normal|         100|\n",
      "|   Steel|          27|\n",
      "|   Fairy|          15|\n",
      "|    Dark|          31|\n",
      "|  Flying|           4|\n",
      "+--------+------------+\n",
      "\n"
     ]
    }
   ],
   "source": [
    "#Devuelve un conteo por Type_1 y muestra el resultado en pantalla\n",
    "allpk.groupBy(\"Type_1\").agg(count(\"*\").alias(\"Number/type1\")).show()"
   ]
  },
  {
   "cell_type": "code",
   "execution_count": 62,
   "id": "00cc37d3",
   "metadata": {},
   "outputs": [
    {
     "name": "stdout",
     "output_type": "stream",
     "text": [
      "Cantidad de pokemon legendarios = 65\n"
     ]
    }
   ],
   "source": [
    "#Devuelve un conteo por pokemon legendarios y muestra el resultado en pantalla\n",
    "legendary = allpk.filter(allpk.legendary == True)\n",
    "print(\"Cantidad de pokemon legendarios =\",legendary.count())"
   ]
  },
  {
   "cell_type": "code",
   "execution_count": 116,
   "id": "31614174",
   "metadata": {},
   "outputs": [
    {
     "name": "stdout",
     "output_type": "stream",
     "text": [
      "El pokemon con mas puntos es Chespin id = 650\n"
     ]
    }
   ],
   "source": [
    "#Devuelve el pokemon con más puntos de:\n",
    "#Vida (hp), Ataque (attack), Defensa (defense)\n",
    "strong = allpk.orderBy(allpk[\"hp\"]+allpk[\"attack\"]+allpk[\"defense\"], ascending=False).first()\n",
    "print(\"El pokemon con mas puntos es\",strong[\"name\"],\"id =\",strong[\"id\"])"
   ]
  },
  {
   "cell_type": "code",
   "execution_count": 108,
   "id": "cc917a6e",
   "metadata": {},
   "outputs": [
    {
     "name": "stdout",
     "output_type": "stream",
     "text": [
      "+---+----------+------+--------+------+------+-------+------+------+------+---------+\n",
      "| id|      name|type_1|  type_2|    hp|attack|defense|sp_atk|sp_def| speed|legendary|\n",
      "+---+----------+------+--------+------+------+-------+------+------+------+---------+\n",
      "|152| Chikorita| Grass|    null| 45,00| 49,00|  65,00| 49,00| 65,00| 45,00|    false|\n",
      "|153|   Bayleef| Grass|    null| 60,00| 62,00|  80,00| 63,00| 80,00| 60,00|    false|\n",
      "|154|  Meganium| Grass|    null| 80,00| 82,00| 100,00| 83,00|100,00| 80,00|    false|\n",
      "|155| Cyndaquil|  Fire|    null| 39,00| 52,00|  43,00| 60,00| 50,00| 65,00|    false|\n",
      "|156|   Quilava|  Fire|    null| 58,00| 64,00|  58,00| 80,00| 65,00| 80,00|    false|\n",
      "|157|Typhlosion|  Fire|    null| 78,00| 84,00|  78,00|109,00| 85,00|100,00|    false|\n",
      "|158|  Totodile| Water|    null| 50,00| 65,00|  64,00| 44,00| 48,00| 43,00|    false|\n",
      "|159|  Croconaw| Water|    null| 65,00| 80,00|  80,00| 59,00| 63,00| 58,00|    false|\n",
      "|160|Feraligatr| Water|    null| 85,00|105,00| 100,00| 79,00| 83,00| 78,00|    false|\n",
      "|161|   Sentret|Normal|    null| 35,00| 46,00|  34,00| 35,00| 45,00| 20,00|    false|\n",
      "|162|    Furret|Normal|    null| 85,00| 76,00|  64,00| 45,00| 55,00| 90,00|    false|\n",
      "|163|  Hoothoot|Normal|  Flying| 60,00| 30,00|  30,00| 36,00| 56,00| 50,00|    false|\n",
      "|164|   Noctowl|Normal|  Flying|100,00| 50,00|  50,00| 76,00| 96,00| 70,00|    false|\n",
      "|165|    Ledyba|   Bug|  Flying| 40,00| 20,00|  30,00| 40,00| 80,00| 55,00|    false|\n",
      "|166|    Ledian|   Bug|  Flying| 55,00| 35,00|  50,00| 55,00|110,00| 85,00|    false|\n",
      "|167|  Spinarak|   Bug|  Poison| 40,00| 60,00|  40,00| 40,00| 40,00| 30,00|    false|\n",
      "|168|   Ariados|   Bug|  Poison| 70,00| 90,00|  70,00| 60,00| 60,00| 40,00|    false|\n",
      "|169|    Crobat|Poison|  Flying| 85,00| 90,00|  80,00| 70,00| 80,00|130,00|    false|\n",
      "|170|  Chinchou| Water|Electric| 75,00| 38,00|  38,00| 56,00| 56,00| 67,00|    false|\n",
      "|171|   Lanturn| Water|Electric|125,00| 58,00|  58,00| 76,00| 76,00| 67,00|    false|\n",
      "+---+----------+------+--------+------+------+-------+------+------+------+---------+\n",
      "only showing top 20 rows\n",
      "\n"
     ]
    }
   ],
   "source": [
    "#Devuelve el pokemon con menos puntos de:\n",
    "#Ataque especial (sp_attack), Defensa especial (sp_defense), Velocidad (speed)\n",
    "#weakest = allpk.orderBy(allpk[\"sp_atk\"]+allpk[\"sp_def\"]+allpk[\"speed\"], ascending=True).first()\n",
    "#print(\"El pokemon con menos puntos es\",weakest[\"name\"],\"id =\",weakest[\"id\"])\n",
    "allpk.orderBy(allpk[\"sp_atk\"]+allpk[\"sp_def\"]+allpk[\"speed\"], ascending=True).show()"
   ]
  },
  {
   "cell_type": "code",
   "execution_count": null,
   "id": "9104ae89",
   "metadata": {},
   "outputs": [],
   "source": []
  },
  {
   "cell_type": "code",
   "execution_count": null,
   "id": "9746783c",
   "metadata": {},
   "outputs": [],
   "source": []
  }
 ],
 "metadata": {
  "kernelspec": {
   "display_name": "Python 3 (ipykernel)",
   "language": "python",
   "name": "python3"
  },
  "language_info": {
   "codemirror_mode": {
    "name": "ipython",
    "version": 3
   },
   "file_extension": ".py",
   "mimetype": "text/x-python",
   "name": "python",
   "nbconvert_exporter": "python",
   "pygments_lexer": "ipython3",
   "version": "3.10.9"
  },
  "varInspector": {
   "cols": {
    "lenName": 16,
    "lenType": 16,
    "lenVar": 40
   },
   "kernels_config": {
    "python": {
     "delete_cmd_postfix": "",
     "delete_cmd_prefix": "del ",
     "library": "var_list.py",
     "varRefreshCmd": "print(var_dic_list())"
    },
    "r": {
     "delete_cmd_postfix": ") ",
     "delete_cmd_prefix": "rm(",
     "library": "var_list.r",
     "varRefreshCmd": "cat(var_dic_list()) "
    }
   },
   "types_to_exclude": [
    "module",
    "function",
    "builtin_function_or_method",
    "instance",
    "_Feature"
   ],
   "window_display": false
  }
 },
 "nbformat": 4,
 "nbformat_minor": 5
}
